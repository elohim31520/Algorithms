{
 "cells": [
  {
   "cell_type": "code",
   "execution_count": null,
   "metadata": {},
   "outputs": [],
   "source": [
    "# 定義一個簡單的裝飾器\n",
    "def my_decorator(func):\n",
    "    def wrapper():\n",
    "        print(\"Something is happening before the function is called.\")\n",
    "        func()\n",
    "        print(\"Something is happening after the function is called.\")\n",
    "    return wrapper\n",
    "\n",
    "# 使用裝飾器標記函數\n",
    "@my_decorator\n",
    "def say_hello():\n",
    "    print(\"Hello!\")\n",
    "\n",
    "# 調用被裝飾的函數\n",
    "say_hello()"
   ]
  },
  {
   "cell_type": "code",
   "execution_count": null,
   "metadata": {},
   "outputs": [],
   "source": [
    "# 定義一個帶有參數的裝飾器\n",
    "def my_decorator_with_args(arg1, arg2):\n",
    "    def decorator(func):\n",
    "        def wrapper(*args, **kwargs):\n",
    "            print(f\"Decorator arguments: {arg1}, {arg2}\")\n",
    "            print(\"Something is happening before the function is called.\")\n",
    "            func(*args, **kwargs)\n",
    "            print(\"Something is happening after the function is called.\")\n",
    "        return wrapper\n",
    "    return decorator\n",
    "\n",
    "# 使用帶有參數的裝飾器標記函數\n",
    "@my_decorator_with_args(\"ABC\", \"XYZ\")\n",
    "def say_hello_with_args(*args):\n",
    "    print(*args)\n",
    "    print(f\"Hello, {args[0]}!\")\n",
    "\n",
    "# 調用被裝飾的函數並傳遞參數\n",
    "say_hello_with_args(\"Tim\")\n",
    "\n"
   ]
  },
  {
   "cell_type": "code",
   "execution_count": null,
   "metadata": {},
   "outputs": [],
   "source": [
    "game_map = {(7, 'game', 'pc', '123'): 185, (7, 'game', 'h5', '456'): 186}\n",
    "\n",
    "pictures=[{'provider_id': 7, 'category': 'game', 'platform': 'pc', 'game_code': '123'}]\n",
    "\n",
    "game_ids = {None}.union(\n",
    "                {game_map.get((p['provider_id'], p['category'], p['platform'], p['game_code'],)) for p in pictures})\n",
    "\n",
    "game_ids"
   ]
  },
  {
   "cell_type": "code",
   "execution_count": null,
   "metadata": {},
   "outputs": [],
   "source": [
    "provider = \"KKBOX\"\n",
    "uid = \"uid\"\n",
    "\n",
    "text = f'contact to {provider} and dont get {uid}'\n",
    "print(text)\n",
    "\n",
    "text2 = 'contact to {} and get {}'.format(provider, uid)\n",
    "print(text2)"
   ]
  },
  {
   "cell_type": "code",
   "execution_count": null,
   "metadata": {},
   "outputs": [],
   "source": [
    "for index, obj in enumerate([{\"abc\": 123} , \"123\", \"xyz\"]):\n",
    "\tprint(index)"
   ]
  },
  {
   "cell_type": "code",
   "execution_count": null,
   "metadata": {},
   "outputs": [],
   "source": [
    "import json\n",
    "search_text = \"开\"\n",
    "text = json.dumps({'s': search_text})\n",
    "text\n"
   ]
  },
  {
   "cell_type": "code",
   "execution_count": null,
   "metadata": {},
   "outputs": [],
   "source": [
    "game_map = {\n",
    "\t(1, 2, 3): \"456\"\n",
    "}\n",
    "game_map[(1,2,3)]"
   ]
  },
  {
   "cell_type": "code",
   "execution_count": null,
   "metadata": {},
   "outputs": [],
   "source": [
    "my_set = set({(1,2,3)})\n",
    "(1,2,3) in my_set"
   ]
  },
  {
   "cell_type": "code",
   "execution_count": null,
   "metadata": {},
   "outputs": [],
   "source": [
    "game_map = {}\n",
    "class gameclass():\n",
    "\tdef __init__(self):\n",
    "\t\tself.provider_id = \"BG\"  \n",
    "\t\tself.category = \"game\"\n",
    "\t\tself.platform = \"pc\"\n",
    "\t\tself.game_code= 9901\n",
    "game = gameclass()\n",
    "key = (game.provider_id, game.category, game.platform, game.game_code,)\n",
    "game_map[key] = \"123\"\n",
    "\n",
    "value = game_map[('BG', 'game', 'pc', 9901)]\n",
    "print(value)  # 输出 '123'"
   ]
  },
  {
   "cell_type": "code",
   "execution_count": null,
   "metadata": {},
   "outputs": [],
   "source": [
    "providers = [{'id': 'gfg', 'code': 1, 'isActive': False}, {'id': \"bg\", 'code': 2, 'isActive': True}, {'id': \"mg\", 'code': 3, 'isActive': False}]\n",
    "provider_map = {p['id']: p['code'] for p in providers}\n",
    "print(provider_map)\n"
   ]
  },
  {
   "cell_type": "code",
   "execution_count": null,
   "metadata": {},
   "outputs": [],
   "source": [
    "# 這個是從 get_pictures_by_games 拉出來的資料結構\n",
    "{183: {'urls': {'en': 'fileupload/game-icon/16944890993401.png'},'sn_code': ''}}"
   ]
  },
  {
   "cell_type": "code",
   "execution_count": null,
   "metadata": {},
   "outputs": [],
   "source": [
    "if not all([\"1\", 0, 3]):\n",
    "\tprint(\"缺少參數\")\n",
    "\n",
    "if not 0:\n",
    "\tprint(0)\n",
    "\n",
    "0 == None\n",
    "0 == None"
   ]
  },
  {
   "cell_type": "code",
   "execution_count": null,
   "metadata": {},
   "outputs": [],
   "source": [
    "class MyClass:\n",
    "    class_attr = 42\n",
    "\n",
    "# 从类中获取属性值\n",
    "attr_value = getattr(MyClass, 'class_attr2', \"123\")\n",
    "print(attr_value)  # 输出 42\n",
    "print(MyClass.class_attr)"
   ]
  },
  {
   "cell_type": "code",
   "execution_count": null,
   "metadata": {},
   "outputs": [],
   "source": [
    "exclude_set = set((1,2))\n",
    "print(exclude_set)"
   ]
  },
  {
   "cell_type": "code",
   "execution_count": null,
   "metadata": {},
   "outputs": [],
   "source": [
    "def print_args(*args):\n",
    "    for arg in args:\n",
    "        print(args)\n",
    "print_args(1, 2, 3)"
   ]
  },
  {
   "cell_type": "code",
   "execution_count": null,
   "metadata": {},
   "outputs": [],
   "source": [
    "import random\n",
    "import string\n",
    "print(string.ascii_letters + string.digits)\n",
    "''.join(random.sample((string.ascii_letters + string.digits), 20))"
   ]
  },
  {
   "cell_type": "code",
   "execution_count": null,
   "metadata": {},
   "outputs": [],
   "source": [
    "class MyClass:\n",
    "    def __str__(self):\n",
    "        return 'haha'\n",
    "\n",
    "my_object = MyClass()\n",
    "str_representation = str(my_object)\n",
    "str_representation"
   ]
  },
  {
   "cell_type": "code",
   "execution_count": null,
   "metadata": {},
   "outputs": [],
   "source": [
    "class Semi:\n",
    "    company=[]\n",
    "    \n",
    "    def add_comp (self, c):\n",
    "        Semi.company.append(c)\n",
    "\n",
    "\n",
    "marvell = Semi()\n",
    "marvell.add_comp('marvell')\n",
    "\n",
    "amd = Semi()\n",
    "amd.add_comp('amd')\n",
    "\n",
    "Semi.add_comp(Semi, 'nvidia')\n",
    "\n",
    "Semi.company"
   ]
  },
  {
   "cell_type": "code",
   "execution_count": null,
   "metadata": {},
   "outputs": [],
   "source": [
    "from threading import Thread\n",
    "import time\n",
    "\n",
    "# 定義一個函數，作為新線程的執行內容\n",
    "def my_function():\n",
    "    for i in range(5):\n",
    "        time.sleep(1)\n",
    "        print('\\n')\n",
    "        print(f\"==sub t: {i + 1} ===\")\n",
    "\n",
    "# 創建一個新的線程，將 my_function 設置為其目標（要執行的函數）\n",
    "my_thread = Thread(target=my_function)\n",
    "\n",
    "# 啟動線程，它將開始執行 my_function 中定義的代碼\n",
    "my_thread.start()\n",
    "\n",
    "# 主線程中的代碼\n",
    "for i in range(3):\n",
    "    time.sleep(1)\n",
    "    print(f\"Main Thread: {i + 1}\")\n",
    "\n",
    "# 等待新線程完成\n",
    "my_thread.join()\n",
    "\n",
    "print(\"Main Thread Exiting\")"
   ]
  },
  {
   "cell_type": "code",
   "execution_count": null,
   "metadata": {},
   "outputs": [],
   "source": [
    "from threading import Thread\n",
    "\n",
    "def my_function():\n",
    "    try:\n",
    "        # 這裡放置你的代碼\n",
    "        print(\"Hello from the new thread!\")\n",
    "        raise ValueError(\"This is an example error in the new thread.\")\n",
    "    except Exception as e:\n",
    "        print(f\"Error in the new thread: {e}\")\n",
    "\n",
    "# 創建新線程\n",
    "my_thread = Thread(target=my_function)\n",
    "\n",
    "# 開始執行新線程\n",
    "my_thread.start()\n",
    "\n",
    "# 等待新線程完成\n",
    "my_thread.join()\n",
    "\n",
    "print(\"Main thread continues...\")"
   ]
  },
  {
   "cell_type": "code",
   "execution_count": null,
   "metadata": {},
   "outputs": [],
   "source": [
    "class Game:\n",
    "    def __init__(self, provider_id, category, code_pc, game_id):\n",
    "        self.provider_id = provider_id\n",
    "        self.category = category\n",
    "        self.code_pc = code_pc\n",
    "        self.id = game_id\n",
    "\n",
    "# 創建 Game 對象\n",
    "game = Game(provider_id='apex', category='game', code_pc=232, game_id=232)\n",
    "game_map = {}\n",
    "game_map[(game.provider_id, game.category, 'pc', game.code_pc)] = game.id\n",
    "game_map[('apex', 'game', 'pc', 232)]"
   ]
  },
  {
   "cell_type": "code",
   "execution_count": null,
   "metadata": {},
   "outputs": [],
   "source": [
    "a = {'id': 123}\n",
    "a['id']\n",
    "a.id"
   ]
  },
  {
   "cell_type": "code",
   "execution_count": null,
   "metadata": {},
   "outputs": [],
   "source": [
    "list1 = [1, 2, 3, 4]\n",
    "list2 = ['a', 'b', 'c', 'z']\n",
    "\n",
    "# 使用 zip 將兩個列表合併\n",
    "zipped = zip(list1, list2)\n",
    "for k, v in zipped:\n",
    "    print(k, v)"
   ]
  },
  {
   "cell_type": "code",
   "execution_count": null,
   "metadata": {},
   "outputs": [],
   "source": [
    "def return2():\n",
    "    x = 10\n",
    "    y = 20\n",
    "    z= 11\n",
    "    return x, y, z\n",
    "\n",
    "result = return2()\n",
    "print(result)"
   ]
  },
  {
   "cell_type": "code",
   "execution_count": null,
   "metadata": {},
   "outputs": [],
   "source": [
    "import json\n",
    "x = json.dumps({'a': 1, 'b': 2})\n",
    "res = json.loads(x)\n",
    "res"
   ]
  },
  {
   "cell_type": "code",
   "execution_count": null,
   "metadata": {},
   "outputs": [],
   "source": [
    "from functools import wraps\n",
    "\n",
    "def my_decorator(func):\n",
    "    @wraps(func)\n",
    "    def wrapper(*args, **kwargs):\n",
    "        print(\"1\")\n",
    "        result = func(*args, **kwargs)\n",
    "        print(\"2\")\n",
    "        return result\n",
    "    return wrapper\n",
    "\n",
    "@my_decorator\n",
    "def say_hello():\n",
    "    \"\"\"A simple function that says hello.\"\"\"\n",
    "    print(\"Hello!\")\n",
    "\n",
    "# 使用裝飾後的函數\n",
    "say_hello()\n",
    "\n",
    "# 檢查函數名稱和文檔字符串是否被保留\n",
    "print(say_hello.__name__)  # 輸出: 'say_hello'\n",
    "print(say_hello.__doc__)   # 輸出: 'A simple function that says hello.'"
   ]
  },
  {
   "cell_type": "code",
   "execution_count": null,
   "metadata": {},
   "outputs": [],
   "source": [
    "my_list = ['a', 'b', 'c']\n",
    "my_list.remove('a')\n",
    "my_list"
   ]
  },
  {
   "cell_type": "code",
   "execution_count": null,
   "metadata": {},
   "outputs": [],
   "source": [
    "import re\n",
    "\n",
    "line = \"def get_all_providers(user, page_index=0, page_size=10, search_text=None):\"\n",
    "\n",
    "m = re.search('\\(.*\\)', line)\n",
    "\n",
    "if m:\n",
    "    matched_text = m.group()\n",
    "    print(matched_text)\n",
    "    \n",
    "args = m.group()[1:-1].replace(' ', '').split(',')\n",
    "args = {re.sub('[=:].*', '', arg) for arg in args}\n",
    "\n",
    "list(args)"
   ]
  },
  {
   "cell_type": "code",
   "execution_count": null,
   "metadata": {},
   "outputs": [],
   "source": [
    "class machine:\n",
    "    def _do_something(self):\n",
    "        print('can call!')\n",
    "    def __do_else_things(self):\n",
    "        print('can not call direct!')\n",
    "    def doIt (slef):\n",
    "        print('start!')\n",
    "    def doitPrivate (self):\n",
    "        return self.__do_else_things()\n",
    "\n",
    "car = machine()\n",
    "\n",
    "car.doIt()\n",
    "car.doitPrivate()\n",
    "car._do_something()"
   ]
  },
  {
   "cell_type": "code",
   "execution_count": null,
   "metadata": {},
   "outputs": [],
   "source": [
    "mylist = [1,2,3]\n",
    "x = 'twitter'\n",
    "# isinstance(mylist, list)\n",
    "isinstance(x ,list)"
   ]
  },
  {
   "cell_type": "code",
   "execution_count": null,
   "metadata": {},
   "outputs": [],
   "source": [
    "set1 = {1, 2, 3}\n",
    "set2 = {3, 4, 5}\n",
    "set3 = {5, 6, 7}\n",
    "# union_set = set1.union(set2)\n",
    "\n",
    "union_set = set1 | set2 | set3\n",
    "union_set"
   ]
  },
  {
   "cell_type": "code",
   "execution_count": null,
   "metadata": {},
   "outputs": [],
   "source": [
    "'{offset:03d}'.format(offset=2)"
   ]
  },
  {
   "cell_type": "code",
   "execution_count": null,
   "metadata": {},
   "outputs": [],
   "source": [
    "x = {\"a\": 1, \"b\": 2, \"c\": 3}\n",
    "\n",
    "a = x.get(\"a\", 2)\n",
    "\n",
    "d = x.get(\"d\", 4)\n",
    "d"
   ]
  },
  {
   "cell_type": "code",
   "execution_count": null,
   "metadata": {},
   "outputs": [],
   "source": [
    "GAME_STATUS = (\n",
    "    ('active', '已啟用'),\n",
    "    ('disable', '已停用'),\n",
    "    ('no_support', '不支持'),\n",
    ")\n",
    "\n",
    "# 检查 extra_data 的类型\n",
    "if type(GAME_STATUS) == dict:\n",
    "    print(\"extra_data 是一个字典\")\n",
    "elif isinstance(GAME_STATUS, (list, set, tuple)):\n",
    "    print(\"extra_data 是一个集合（列表、集合或元组）\")\n",
    "else:\n",
    "    print(\"extra_data 既不是字典也不是集合\")\n",
    "    \n",
    "\n",
    "for k,v in enumerate(GAME_STATUS):\n",
    "    print(k,v)"
   ]
  },
  {
   "cell_type": "code",
   "execution_count": null,
   "metadata": {},
   "outputs": [],
   "source": [
    "import time\n",
    "from concurrent.futures import ThreadPoolExecutor\n",
    "\n",
    "def test(n):\n",
    "    for i in range(n):\n",
    "        print(i, end=' ')\n",
    "        time.sleep(0.2)\n",
    "\n",
    "with ThreadPoolExecutor() as executor:\n",
    "    executor.map(test, [2,3,4])"
   ]
  },
  {
   "cell_type": "code",
   "execution_count": null,
   "metadata": {},
   "outputs": [],
   "source": [
    "if not all(['vdd', 2, 0]):\n",
    "    print('有缺參數')"
   ]
  },
  {
   "cell_type": "code",
   "execution_count": null,
   "metadata": {},
   "outputs": [],
   "source": [
    "provider_id = \"vdd\"\n",
    "category = 'game'\n",
    "ext = 'png'\n",
    "'{}_{}_{:.3f}'.format(provider_id, category, time.time()) + '.' + ext\n",
    "# '{:.3f}'.format(3.1415926)"
   ]
  },
  {
   "cell_type": "code",
   "execution_count": null,
   "metadata": {},
   "outputs": [],
   "source": [
    "if True:\n",
    "    a = 1\n",
    "else :\n",
    "    a = 2\n",
    "    \n",
    "a + 2"
   ]
  },
  {
   "cell_type": "code",
   "execution_count": null,
   "metadata": {},
   "outputs": [],
   "source": [
    "a = None\n",
    "b = \"val\"\n",
    "\n",
    "if a is None or b is None:\n",
    "    print('有缺參數')"
   ]
  },
  {
   "cell_type": "code",
   "execution_count": null,
   "metadata": {},
   "outputs": [],
   "source": [
    "def testtest ():\n",
    "    a = 1\n",
    "    b = 2\n",
    "    args = dict(locals())\n",
    "    x = args.pop('b', None)\n",
    "    print(args, x)\n",
    "    \n",
    "testtest()"
   ]
  },
  {
   "cell_type": "code",
   "execution_count": null,
   "metadata": {},
   "outputs": [],
   "source": [
    "obj = dict(a=1, b=2)\n",
    "obj"
   ]
  },
  {
   "cell_type": "code",
   "execution_count": null,
   "metadata": {},
   "outputs": [],
   "source": [
    "import os, random, re\n",
    "BASE_DIR = 'this/is/base/'\n",
    "path = 'https://google.com'\n",
    "file_path = os.path.join(BASE_DIR, 'source_mgr/static/download/tmp/',\n",
    "                                     '{}_{}'.format(random.randint(100, 999), re.split(r'[/|%2F]', path)[-1]))\n",
    "\n",
    "file_path"
   ]
  },
  {
   "cell_type": "code",
   "execution_count": null,
   "metadata": {},
   "outputs": [],
   "source": [
    "my_url = 'https://google.com?uuid=123&q=text'\n",
    "path, *params = re.split(r'[?#]', my_url)\n",
    "print(path)\n",
    "print(*[1,2,3])\n",
    "print(params)"
   ]
  },
  {
   "cell_type": "code",
   "execution_count": null,
   "metadata": {},
   "outputs": [],
   "source": [
    "import time\n",
    "t1 = time.time()\n",
    "print(type(t1))\n",
    "print(t1)"
   ]
  },
  {
   "cell_type": "code",
   "execution_count": null,
   "metadata": {},
   "outputs": [],
   "source": [
    "import os\n",
    "\n",
    "# 示例路径\n",
    "file_path = \"/this/is/my/path/filename.txt\"\n",
    "\n",
    "# 获取文件所在的目录\n",
    "directory = os.path.dirname(file_path)\n",
    "\n",
    "print(\"文件路径:\", file_path)\n",
    "print(\"文件所在目录:\", directory)"
   ]
  },
  {
   "cell_type": "code",
   "execution_count": null,
   "metadata": {},
   "outputs": [],
   "source": [
    "file_path = '/Users/lewis/Desktop/UAT/game-admin/source_mgr/static/download/tmp/17060929891941.png'\n",
    "f_name = str(file_path).split(\"/\")[-1]\n",
    "f_name"
   ]
  },
  {
   "cell_type": "code",
   "execution_count": null,
   "metadata": {},
   "outputs": [],
   "source": [
    "url_sp = ['img', 'web', 'get', '17061629888416.png']\n",
    "path = '/'.join(url_sp[1:])\n",
    "path"
   ]
  },
  {
   "cell_type": "code",
   "execution_count": null,
   "metadata": {},
   "outputs": [],
   "source": [
    "code_set = set()\n",
    "code_set.add(666)\n",
    "code_set.add(666)\n",
    "code_set"
   ]
  },
  {
   "cell_type": "code",
   "execution_count": null,
   "metadata": {},
   "outputs": [],
   "source": [
    "import re\n",
    "cdn_domain = 'https://google.com'\n",
    "path = '?c=gg01'\n",
    "url_sp = re.split(r'[/]+', (cdn_domain + path))\n",
    "url_sp"
   ]
  },
  {
   "cell_type": "code",
   "execution_count": null,
   "metadata": {},
   "outputs": [],
   "source": [
    "mymap = {\n",
    "    (9, 'game'): 200\n",
    "}\n",
    "\n",
    "(9, 'game') in mymap"
   ]
  },
  {
   "cell_type": "code",
   "execution_count": null,
   "metadata": {},
   "outputs": [],
   "source": [
    "from urllib.parse import quote, unquote\n",
    "import string\n",
    "url = 'meta.com?uid=1234&username=巨人'\n",
    "print( quote(url, safe=string.printable))\n",
    "encodedUrl = quote(url)\n",
    "print(encodedUrl)\n",
    "print(unquote(encodedUrl))"
   ]
  },
  {
   "cell_type": "code",
   "execution_count": null,
   "metadata": {},
   "outputs": [],
   "source": [
    "def example_function(bornIn, **kwargs):\n",
    "    print(bornIn)\n",
    "    for key, value in kwargs.items():\n",
    "        print(f\"{key}: {value}\")\n",
    "\n",
    "# 使用 kwargs 不提供默認值\n",
    "example_function('japan',name=\"John\", age=25, city=\"New York\", employ=\"google\")"
   ]
  },
  {
   "cell_type": "code",
   "execution_count": null,
   "metadata": {},
   "outputs": [],
   "source": [
    "import os\n",
    "import sys\n",
    "\n",
    "if '__file__' not in locals():\n",
    "    current_file = os.path.abspath(sys.argv[0])\n",
    "else:\n",
    "    current_file = os.path.abspath(__file__)\n",
    "BASE_DIR = os.path.dirname(os.path.dirname(current_file))\n",
    "BASE_DIR"
   ]
  },
  {
   "cell_type": "code",
   "execution_count": null,
   "metadata": {},
   "outputs": [],
   "source": [
    "class Industry:\n",
    "\n",
    "    def __init__(self, industry):\n",
    "        self.industry = industry\n",
    "\n",
    "    def plus_cap(self, num):\n",
    "        self.capital += num\n",
    "\n",
    "\n",
    "class AMD(Industry):\n",
    "\n",
    "    def __init__(self, industry, capital):\n",
    "        super().__init__(industry)\n",
    "        self.capital = capital\n",
    "\n",
    "    def manufacturing(self):\n",
    "        arc = self.architecture\n",
    "        print('manufacturing {} cpu'.format(arc))\n",
    "\n",
    "    def purpose(self):\n",
    "        arc = self.architecture\n",
    "        print('make {} cpu and server!'.format(arc))\n",
    "        \n",
    "    def dumps(self):\n",
    "        result = dict(self.__dict__)\n",
    "        return result\n",
    "\n",
    "\n",
    "class CPU(AMD):\n",
    "\n",
    "    def __init__(self, industry, capital, architecture):\n",
    "        # super().__init__(industry, capital)\n",
    "        self.architecture = architecture\n",
    "\n",
    "    def process(self):\n",
    "        print('processing')\n",
    "\n",
    "\n",
    "ryzen = CPU('semiconductor', 1000, 'x86')\n",
    "ryzen.process()\n",
    "# ryzen.industry\n",
    "ryzen.manufacturing()\n",
    "\n",
    "print(ryzen.__dict__)\n",
    "print(CPU.__dict__)\n",
    "print(ryzen.dumps())"
   ]
  },
  {
   "cell_type": "code",
   "execution_count": null,
   "metadata": {},
   "outputs": [],
   "source": [
    "mymap = {\n",
    "    'a': 1,\n",
    "    'b': 2,\n",
    "    'c': 3\n",
    "}\n",
    "\n",
    "x, y, z = mymap\n",
    "print(x, y, z)\n",
    "mymap[x]"
   ]
  },
  {
   "cell_type": "code",
   "execution_count": 212,
   "metadata": {},
   "outputs": [
    {
     "data": {
      "text/plain": [
       "{'pc': 'pc', 'h5': 'h5'}"
      ]
     },
     "execution_count": 212,
     "metadata": {},
     "output_type": "execute_result"
    }
   ],
   "source": [
    "cons = GAME_PLATFORM = (\n",
    "    ('pc', 'pc', 1),\n",
    "    ('h5', 'h5', 2),\n",
    ")\n",
    "\n",
    "{k: v for k, v, i in cons}"
   ]
  },
  {
   "cell_type": "code",
   "execution_count": null,
   "metadata": {},
   "outputs": [],
   "source": [
    "import random\n",
    "x = [(1, 'pc'), (2, 'h5'), (3, 'app')]\n",
    "random.shuffle(x)\n",
    "x"
   ]
  },
  {
   "cell_type": "code",
   "execution_count": 197,
   "metadata": {},
   "outputs": [
    {
     "data": {
      "text/plain": [
       "{1, 23, 4, None}"
      ]
     },
     "execution_count": 197,
     "metadata": {},
     "output_type": "execute_result"
    }
   ],
   "source": [
    "x = {None}.union({1,23,4})\n",
    "x"
   ]
  },
  {
   "cell_type": "code",
   "execution_count": 201,
   "metadata": {},
   "outputs": [
    {
     "name": "stdout",
     "output_type": "stream",
     "text": [
      "X-en\n",
      "X-en\n",
      "X-en\n"
     ]
    }
   ],
   "source": [
    "platform = 'X'\n",
    "language = 'en'\n",
    "print(f'{platform}-{language}')\n",
    "print('{}-{}'.format(platform, language))\n",
    "print('{a}-{b}'.format(a=platform, b=language))"
   ]
  },
  {
   "cell_type": "code",
   "execution_count": 211,
   "metadata": {},
   "outputs": [
    {
     "name": "stdout",
     "output_type": "stream",
     "text": [
      "openDoor\n",
      "a, b\n"
     ]
    },
    {
     "data": {
      "text/plain": [
       "['a', 'b']"
      ]
     },
     "execution_count": 211,
     "metadata": {},
     "output_type": "execute_result"
    }
   ],
   "source": [
    "line = 'def openDoor(a, b):'\n",
    "matches = re.search('^def .*\\(', line)\n",
    "print(matches.group()[4: -1])\n",
    "\n",
    "m = re.search('\\(.*\\)', line)\n",
    "print(m.group()[1:-1])\n",
    "args = m.group()[1:-1].replace(' ', '').split(',')\n",
    "args"
   ]
  },
  {
   "cell_type": "code",
   "execution_count": 218,
   "metadata": {},
   "outputs": [
    {
     "data": {
      "text/plain": [
       "False"
      ]
     },
     "execution_count": 218,
     "metadata": {},
     "output_type": "execute_result"
    }
   ],
   "source": [
    "class MyQueue:\n",
    "\n",
    "    def __init__(self):\n",
    "        \"\"\"\n",
    "        in主要负责push，out主要负责pop\n",
    "        \"\"\"\n",
    "        self.stack_in = []\n",
    "        self.stack_out = []\n",
    "\n",
    "\n",
    "    def push(self, x: int) -> None:\n",
    "        \"\"\"\n",
    "        有新元素进来，就往in里面push\n",
    "        \"\"\"\n",
    "        self.stack_in.append(x)\n",
    "\n",
    "\n",
    "    def pop(self) -> int:\n",
    "        \"\"\"\n",
    "        Removes the element from in front of queue and returns that element.\n",
    "        \"\"\"\n",
    "        if self.empty():\n",
    "            return None\n",
    "        \n",
    "        if self.stack_out:\n",
    "            return self.stack_out.pop()\n",
    "        else:\n",
    "            for i in range(len(self.stack_in)):\n",
    "                self.stack_out.append(self.stack_in.pop())\n",
    "            return self.stack_out.pop()\n",
    "\n",
    "\n",
    "    def peek(self) -> int:\n",
    "        \"\"\"\n",
    "        Get the front element.\n",
    "        \"\"\"\n",
    "        ans = self.pop()\n",
    "        self.stack_out.append(ans)\n",
    "        return ans\n",
    "\n",
    "\n",
    "    def empty(self) -> bool:\n",
    "        \"\"\"\n",
    "        只要in或者out有元素，说明队列不为空\n",
    "        \"\"\"\n",
    "        return not (self.stack_in or self.stack_out)\n",
    "    \n",
    "\n",
    "myQ = MyQueue()\n",
    "myQ.push(1)\n",
    "myQ.push(2)\n",
    "myQ.stack_in\n",
    "myQ.empty()"
   ]
  },
  {
   "cell_type": "code",
   "execution_count": 224,
   "metadata": {},
   "outputs": [
    {
     "name": "stdout",
     "output_type": "stream",
     "text": [
      "有\n"
     ]
    }
   ],
   "source": [
    "a = [1]\n",
    "if not a:\n",
    "    print('沒有')\n",
    "else:\n",
    "    print('有')"
   ]
  },
  {
   "cell_type": "code",
   "execution_count": 231,
   "metadata": {},
   "outputs": [
    {
     "data": {
      "text/plain": [
       "'e'"
      ]
     },
     "execution_count": 231,
     "metadata": {},
     "output_type": "execute_result"
    }
   ],
   "source": [
    "ord('e') - ord(\"a\")\n",
    "chr(101)"
   ]
  },
  {
   "cell_type": "code",
   "execution_count": 230,
   "metadata": {},
   "outputs": [
    {
     "data": {
      "text/plain": [
       "defaultdict(int, {})"
      ]
     },
     "execution_count": 230,
     "metadata": {},
     "output_type": "execute_result"
    }
   ],
   "source": [
    "from collections import defaultdict\n",
    "        \n",
    "s_dict = defaultdict(int)\n",
    "\n",
    "s_dict"
   ]
  },
  {
   "cell_type": "code",
   "execution_count": 233,
   "metadata": {},
   "outputs": [
    {
     "data": {
      "text/plain": [
       "[2]"
      ]
     },
     "execution_count": 233,
     "metadata": {},
     "output_type": "execute_result"
    }
   ],
   "source": [
    "x = [1,2,2,1]\n",
    "y = [2,2]\n",
    "list(set(x) & set(y))"
   ]
  },
  {
   "cell_type": "code",
   "execution_count": 234,
   "metadata": {},
   "outputs": [
    {
     "name": "stdout",
     "output_type": "stream",
     "text": [
      "1\n"
     ]
    }
   ],
   "source": [
    "a = 5  # 二進制為 0101\n",
    "b = 3  # 二進制為 0011\n",
    "\n",
    "result = a & b  # 二進制為 0001，即十進制的 1\n",
    "print(result)"
   ]
  },
  {
   "cell_type": "code",
   "execution_count": 241,
   "metadata": {},
   "outputs": [
    {
     "data": {
      "text/plain": [
       "[0, 1]"
      ]
     },
     "execution_count": 241,
     "metadata": {},
     "output_type": "execute_result"
    }
   ],
   "source": [
    "def towSum (nums, target):\n",
    "    records = dict()\n",
    "    for i, value in enumerate(nums):\n",
    "        if target - value in records:\n",
    "            return [records[target - value], i]\n",
    "        records[value] = i\n",
    "    return []\n",
    "\n",
    "answ = towSum([7,2,11,0], 9)\n",
    "answ"
   ]
  },
  {
   "cell_type": "code",
   "execution_count": 268,
   "metadata": {},
   "outputs": [
    {
     "data": {
      "text/plain": [
       "[[-1, -1, 2], [-1, 0, 1]]"
      ]
     },
     "execution_count": 268,
     "metadata": {},
     "output_type": "execute_result"
    }
   ],
   "source": [
    "# 给定数组 nums = [-1, 0, 1, 2, -1, -4]，\n",
    "\n",
    "# 满足要求的三元组集合为： [ [-1, 0, 1], [-1, -1, 2] ]\n",
    "\n",
    "def threeSum (nums):\n",
    "    res = []\n",
    "    nums.sort()\n",
    "    for i in range(len(nums)):\n",
    "        if nums[i] > 0:\n",
    "            return res\n",
    "\n",
    "        if i > 0 and nums[i] == nums[i - 1]:\n",
    "            continue\n",
    "\n",
    "        left = i + 1\n",
    "        right = len(nums) - 1\n",
    "        while left < right:\n",
    "            total = nums[left] + nums[right] + nums[i]\n",
    "            if total < 0:\n",
    "                left += 1\n",
    "            elif total > 0:\n",
    "                right -=1\n",
    "            else:\n",
    "                res.append([nums[i], nums[left], nums[right]])\n",
    "                # 跳过相同的元素以避免重复\n",
    "                while right > left and nums[right] == nums[right - 1]:\n",
    "                    right -= 1\n",
    "                while right > left and nums[left] == nums[left + 1]:\n",
    "                    left += 1\n",
    "                left += 1\n",
    "                right -= 1\n",
    "    \n",
    "    return res\n",
    "\n",
    "answ = threeSum([-1, 0, 1, 2, -1, -4])\n",
    "answ"
   ]
  },
  {
   "cell_type": "code",
   "execution_count": 267,
   "metadata": {},
   "outputs": [
    {
     "data": {
      "text/plain": [
       "[[-1, -1, 2], [-1, 0, 1]]"
      ]
     },
     "execution_count": 267,
     "metadata": {},
     "output_type": "execute_result"
    }
   ],
   "source": [
    "def threeSum(nums):\n",
    "\tresult = []\n",
    "\tnums.sort()\n",
    "\t\n",
    "\tfor i in range(len(nums)):\n",
    "\t\t# 如果第一个元素已经大于0，不需要进一步检查\n",
    "\t\tif nums[i] > 0:\n",
    "\t\t\treturn result\n",
    "\t\t\n",
    "\t\t# 跳过相同的元素以避免重复\n",
    "\t\tif i > 0 and nums[i] == nums[i - 1]:\n",
    "\t\t\tcontinue\n",
    "\t\t\t\n",
    "\t\tleft = i + 1\n",
    "\t\tright = len(nums) - 1\n",
    "\t\t\n",
    "\t\twhile right > left:\n",
    "\t\t\tsum_ = nums[i] + nums[left] + nums[right]\n",
    "\t\t\t\n",
    "\t\t\tif sum_ < 0:\n",
    "\t\t\t\tleft += 1\n",
    "\t\t\telif sum_ > 0:\n",
    "\t\t\t\tright -= 1\n",
    "\t\t\telse:\n",
    "\t\t\t\tresult.append([nums[i], nums[left], nums[right]])\n",
    "\t\t\t\t\n",
    "\t\t\t\t# 跳过相同的元素以避免重复\n",
    "\t\t\t\twhile right > left and nums[right] == nums[right - 1]:\n",
    "\t\t\t\t\tright -= 1\n",
    "\t\t\t\twhile right > left and nums[left] == nums[left + 1]:\n",
    "\t\t\t\t\tleft += 1\n",
    "\t\t\t\t\t\n",
    "\t\t\t\tright -= 1\n",
    "\t\t\t\tleft += 1\n",
    "\t\t\t\t\n",
    "\treturn result\n",
    "\n",
    "answ = threeSum([-1, 0, 1, 2, -1, -4])\n",
    "answ"
   ]
  },
  {
   "cell_type": "code",
   "execution_count": 271,
   "metadata": {},
   "outputs": [
    {
     "data": {
      "text/plain": [
       "[[-1, 0, 1], [-1, 2, -1], [0, 1, -1]]"
      ]
     },
     "execution_count": 271,
     "metadata": {},
     "output_type": "execute_result"
    }
   ],
   "source": [
    "def threeSum(nums):\n",
    "\tres = []\n",
    "\tfor i in range(len(nums)):\n",
    "\t\tfor j in range(i + 1, len(nums)):\n",
    "\t\t\tfor k in range(j + 1, len(nums)):\n",
    "\t\t\t\tif nums[i] + nums[j] + nums[k] == 0:\n",
    "\t\t\t\t\tres.append([nums[i] , nums[j] , nums[k]])\n",
    "\t\n",
    "\treturn res\n",
    "\n",
    "answ = threeSum([-1, 0, 1, 2, -1, -4])\n",
    "answ"
   ]
  },
  {
   "cell_type": "code",
   "execution_count": 5,
   "metadata": {},
   "outputs": [
    {
     "data": {
      "text/plain": [
       "[[-2, -1, 1, 2], [-2, 0, 0, 2], [-1, 0, 0, 1]]"
      ]
     },
     "execution_count": 5,
     "metadata": {},
     "output_type": "execute_result"
    }
   ],
   "source": [
    "def fourSum (nums, target):\n",
    "\tres = []\n",
    "\tnums.sort()\n",
    "\tn = len(nums)\n",
    "\tfor i in range(n):\n",
    "\t\tif nums[i] > target and nums[i] > 0 and target > 0:\n",
    "\t\t\tbreak\n",
    "\t\tif i > 0 and nums[i] == nums[i - 1]:\n",
    "\t\t\tcontinue\n",
    "\n",
    "\t\tfor j in range(i + 1, n):\n",
    "\t\t\tif nums[i] + nums[j] > target and target > 0:\n",
    "\t\t\t\tbreak\n",
    "\t\t\tif j > i + 1 and nums[j] == nums[j - 1]:\n",
    "\t\t\t\tcontinue\n",
    "\t\t\tleft = j + 1\n",
    "\t\t\tright = len(nums) - 1\n",
    "\n",
    "\t\t\twhile left < right:\n",
    "\t\t\t\tsum_ = nums[i] + nums[j] + nums[left] + nums[right]\n",
    "\t\t\t\tif sum_ == target:\n",
    "\t\t\t\t\tres.append([nums[i] , nums[j] , nums[left] , nums[right]])\n",
    "\t\t\t\t\twhile left < right and nums[left] == nums[left + 1]:\n",
    "\t\t\t\t\t\tleft+=1\n",
    "\t\t\t\t\twhile left < right and nums[right] == nums[right - 1]:\n",
    "\t\t\t\t\t\tright-=1\n",
    "\t\t\t\t\tleft+=1\n",
    "\t\t\t\t\tright-=1\n",
    "\t\t\t\telif sum_ > target:\n",
    "\t\t\t\t\tright-=1\n",
    "\t\t\t\telse:\n",
    "\t\t\t\t\tleft+=1\n",
    "\treturn res\n",
    "\n",
    "answ = fourSum([1, 0, -1, 0, -2, 2], 0)\n",
    "answ"
   ]
  },
  {
   "cell_type": "code",
   "execution_count": 7,
   "metadata": {},
   "outputs": [
    {
     "data": {
      "text/plain": [
       "5"
      ]
     },
     "execution_count": 7,
     "metadata": {},
     "output_type": "execute_result"
    }
   ],
   "source": [
    "def removeElement (nums, val):\n",
    "    slowIndex = 0\n",
    "    for fastIndex in range(len(nums)):\n",
    "        if nums[fastIndex] != val:\n",
    "            nums[slowIndex] = nums[fastIndex]\n",
    "            slowIndex+=1\n",
    "    return slowIndex\n",
    "\n",
    "answ = removeElement([0,1,2,2,3,0,4,2], 2)\n",
    "answ"
   ]
  },
  {
   "cell_type": "code",
   "execution_count": 5,
   "metadata": {},
   "outputs": [
    {
     "data": {
      "text/plain": [
       "5"
      ]
     },
     "execution_count": 5,
     "metadata": {},
     "output_type": "execute_result"
    }
   ],
   "source": [
    "def removeElement (nums, val):\n",
    "    slow = 0\n",
    "    fast = 0\n",
    "    size = len(nums)\n",
    "    while fast < size:\n",
    "        if nums[fast] != val:\n",
    "            nums[slow] = nums[fast]\n",
    "            slow+=1\n",
    "        fast +=1\n",
    "            \n",
    "    return slow\n",
    "\n",
    "answ = removeElement([0,1,2,2,3,0,4,2], 2)\n",
    "answ"
   ]
  },
  {
   "cell_type": "code",
   "execution_count": 11,
   "metadata": {},
   "outputs": [
    {
     "data": {
      "text/plain": [
       "['o', 'l', 'l', 'e', 'h']"
      ]
     },
     "execution_count": 11,
     "metadata": {},
     "output_type": "execute_result"
    }
   ],
   "source": [
    "def reverseStr (nums):\n",
    "    right = 0\n",
    "    left = len(nums) - 1\n",
    "    while right < left:\n",
    "        nums[right], nums[left] = nums[left], nums[right]\n",
    "        right += 1\n",
    "        left -= 1\n",
    "    return nums\n",
    "\n",
    "answ = reverseStr([\"h\",\"e\",\"l\",\"l\",\"o\"])\n",
    "answ"
   ]
  },
  {
   "cell_type": "code",
   "execution_count": 17,
   "metadata": {},
   "outputs": [
    {
     "data": {
      "text/plain": [
       "'ysel h'"
      ]
     },
     "execution_count": 17,
     "metadata": {},
     "output_type": "execute_result"
    }
   ],
   "source": [
    "s = 'the blue sky'\n",
    "s[::-2]"
   ]
  },
  {
   "cell_type": "code",
   "execution_count": 16,
   "metadata": {},
   "outputs": [
    {
     "data": {
      "text/plain": [
       "'sky blue the'"
      ]
     },
     "execution_count": 16,
     "metadata": {},
     "output_type": "execute_result"
    }
   ],
   "source": [
    "s = 'the blue sky'\n",
    "s[::-1]\n",
    "\n",
    "def reverseWords(s):\n",
    "        # 将字符串拆分为单词，即转换成列表类型\n",
    "        words = s.split()\n",
    "\n",
    "        # 反转单词\n",
    "        left, right = 0, len(words) - 1\n",
    "        while left < right:\n",
    "            words[left], words[right] = words[right], words[left]\n",
    "            left += 1\n",
    "            right -= 1\n",
    "\n",
    "        # 将列表转换成字符串\n",
    "        return \" \".join(words)\n",
    "\n",
    "answ = reverseWords(s)\n",
    "answ"
   ]
  },
  {
   "cell_type": "code",
   "execution_count": 34,
   "metadata": {},
   "outputs": [
    {
     "name": "stdout",
     "output_type": "stream",
     "text": [
      "4\n"
     ]
    }
   ],
   "source": [
    "class ListNode:\n",
    "\tdef __init__(self, val=0, next=None):\n",
    "\t\tself.val = val\n",
    "\t\tself.next = next\n",
    "\n",
    "node5 = ListNode(5)\n",
    "node4 = ListNode(4, node5)\n",
    "node3 = ListNode(3, node4)\n",
    "node2 = ListNode(2, node3)\n",
    "node1 = ListNode(1, node2)\n",
    "# 示例: 输入: 1->2->3->4->5->NULL\n",
    "\n",
    "def reverseList(head: ListNode):\n",
    "\tcur = head\n",
    "\tpre = None\n",
    "\twhile cur:\n",
    "\t\ttemp = cur.next\n",
    "\t\tcur.next = pre\n",
    "\t\tpre = cur\n",
    "\t\tcur = temp\n",
    "\n",
    "reverseList(node1)\n",
    "print(node5.next.val)"
   ]
  },
  {
   "cell_type": "code",
   "execution_count": 38,
   "metadata": {},
   "outputs": [
    {
     "name": "stdout",
     "output_type": "stream",
     "text": [
      "4\n"
     ]
    }
   ],
   "source": [
    "class ListNode:\n",
    "\tdef __init__(self, val=0, next=None):\n",
    "\t\tself.val = val\n",
    "\t\tself.next = next\n",
    "\n",
    "node5 = ListNode(5)\n",
    "node4 = ListNode(4, node5)\n",
    "node3 = ListNode(3, node4)\n",
    "node2 = ListNode(2, node3)\n",
    "node1 = ListNode(1, node2)\n",
    "# 示例: 输入: 1->2->3->4->5->NULL\n",
    "\n",
    "def reverse(head: ListNode):\n",
    "\treturn reverseList(head, None)\n",
    "\n",
    "def reverseList (cur, pre):\n",
    "\tif cur == None:\n",
    "\t\treturn pre\n",
    "\ttemp = cur.next\n",
    "\tcur.next = pre\n",
    "\treturn reverseList(temp, cur)\n",
    "\n",
    "reverse(node1)\n",
    "\n",
    "\n",
    "print(node5.next.val)"
   ]
  },
  {
   "cell_type": "code",
   "execution_count": 49,
   "metadata": {},
   "outputs": [
    {
     "name": "stdout",
     "output_type": "stream",
     "text": [
      "原始鏈表:\n",
      "1 -> 2 -> 3 -> 4 -> None\n",
      "交換相鄰節點後的鏈表:\n",
      "2 -> 1 -> 4 -> 3 -> None\n"
     ]
    }
   ],
   "source": [
    "class ListNode:\n",
    "\tdef __init__(self, val=0, next=None):\n",
    "\t\tself.val = val\n",
    "\t\tself.next = next\n",
    "\n",
    "from typing import Optional\n",
    "\n",
    "class Solution:\n",
    "    def swapPairs(self, head: Optional[ListNode]) -> Optional[ListNode]:\n",
    "        if head is None or head.next is None:\n",
    "            return head\n",
    "\n",
    "        # 待翻转的两个node分别是pre和cur\n",
    "        pre = head\n",
    "        cur = head.next\n",
    "        next = head.next.next\n",
    "        \n",
    "        cur.next = pre  # 交换\n",
    "        pre.next = self.swapPairs(next) # 将以next为head的后续链表两两交换\n",
    "\n",
    "        return cur\n",
    "\n",
    "def print_list(head):\n",
    "    current = head\n",
    "    while current:\n",
    "        print(current.val, end=\" -> \")\n",
    "        current = current.next\n",
    "    print(\"None\")\n",
    "\n",
    "# 測試 swapPairs 方法\n",
    "solution = Solution()\n",
    "\n",
    "# 創建一個測試鏈表: 1 -> 2 -> 3 -> 4\n",
    "test_head = ListNode(1)\n",
    "test_head.next = ListNode(2)\n",
    "test_head.next.next = ListNode(3)\n",
    "test_head.next.next.next = ListNode(4)\n",
    "\n",
    "print(\"原始鏈表:\")\n",
    "print_list(test_head)\n",
    "\n",
    "# 呼叫 swapPairs 方法\n",
    "result_head = solution.swapPairs(test_head)\n",
    "\n",
    "# 打印結果鏈表\n",
    "print(\"交換相鄰節點後的鏈表:\")\n",
    "print_list(result_head)"
   ]
  },
  {
   "cell_type": "code",
   "execution_count": 53,
   "metadata": {},
   "outputs": [
    {
     "name": "stdout",
     "output_type": "stream",
     "text": [
      "原始鏈表:\n",
      "1 -> 2 -> 3 -> 4 -> 5 -> None\n",
      "交換相鄰節點後的鏈表:\n",
      "1 -> 2 -> 3 -> 5 -> None\n"
     ]
    }
   ],
   "source": [
    "class ListNode:\n",
    "\tdef __init__(self, val=0, next=None):\n",
    "\t\tself.val = val\n",
    "\t\tself.next = next\n",
    "\n",
    "from typing import Optional\n",
    "\n",
    "class Solution:\n",
    "\tdef removeNthFromEnd(self, head: ListNode, n: int) -> ListNode:\n",
    "\t\tdummy_head = ListNode(0, head)\n",
    "\t\tslow = fast = dummy_head\n",
    "\n",
    "\t\tfor i in range(n + 1):\n",
    "\t\t\tfast = fast.next\n",
    "\t\t\n",
    "\t\twhile fast:\n",
    "\t\t\tfast = fast.next\n",
    "\t\t\tslow = slow.next\n",
    "\n",
    "\t\tslow.next = slow.next.next\n",
    "\n",
    "\t\treturn dummy_head.next\n",
    "\n",
    "def print_list(head):\n",
    "    current = head\n",
    "    while current:\n",
    "        print(current.val, end=\" -> \")\n",
    "        current = current.next\n",
    "    print(\"None\")\n",
    "\n",
    "# 測試 removeNthFromEnd 方法\n",
    "solution = Solution()\n",
    "\n",
    "# 創建一個測試鏈表: 1 -> 2 -> 3 -> 4\n",
    "test_head = ListNode(1)\n",
    "test_head.next = ListNode(2)\n",
    "test_head.next.next = ListNode(3)\n",
    "test_head.next.next.next = ListNode(4)\n",
    "test_head.next.next.next.next = ListNode(5)\n",
    "\n",
    "print(\"原始鏈表:\")\n",
    "print_list(test_head)\n",
    "\n",
    "# 呼叫 removeNthFromEnd 方法\n",
    "result_head = solution.removeNthFromEnd(test_head, 2)\n",
    "\n",
    "# 打印結果鏈表\n",
    "print(\"交換相鄰節點後的鏈表:\")\n",
    "print_list(result_head)"
   ]
  },
  {
   "cell_type": "code",
   "execution_count": 67,
   "metadata": {},
   "outputs": [
    {
     "name": "stdout",
     "output_type": "stream",
     "text": [
      "3\n",
      "2\n",
      "1\n",
      "10\n",
      "20\n",
      "que[0]:  3\n"
     ]
    }
   ],
   "source": [
    "from collections import deque\n",
    "que = deque()\n",
    "que.append(10)\n",
    "que.appendleft(1)\n",
    "que.appendleft(2)\n",
    "que.appendleft(3)\n",
    "\n",
    "que.append(20)\n",
    "\n",
    "for i in que:\n",
    "    print(i)\n",
    "    \n",
    "\n",
    "print('que[0]: ', que[0])"
   ]
  },
  {
   "cell_type": "code",
   "execution_count": 69,
   "metadata": {},
   "outputs": [],
   "source": [
    "from collections import deque\n",
    "\n",
    "class Myque:\n",
    "\tdef __init__ (self):\n",
    "\t\tself.que = deque()\n",
    "\n",
    "\tdef pop (self):\n",
    "\t\tpass\n",
    "\n",
    "\tdef push(self):\n",
    "\t\tpass\n",
    "\n",
    "\tdef front(self):\n",
    "\t\tpass\n",
    "\n",
    "\n",
    "class Solutuon:\n",
    "\tdef maxSlidingWindow(self, nums, k: int):\n",
    "\t\tpass"
   ]
  },
  {
   "cell_type": "code",
   "execution_count": 108,
   "metadata": {},
   "outputs": [
    {
     "name": "stdout",
     "output_type": "stream",
     "text": [
      "[1, 2, 4, 5, 3, 6, 7]\n",
      "[4, 2, 5, 1, 6, 3, 7]\n",
      "[4, 5, 2, 6, 7, 3, 1]\n"
     ]
    }
   ],
   "source": [
    "class TreeNode:\n",
    "    def __init__ (self, val, left = None, right = None):\n",
    "        self.val  = val\n",
    "        self.left = left\n",
    "        self.right = right\n",
    "        \n",
    "class Solution:\n",
    "\tdef preorderTraversal (self, root: TreeNode):\n",
    "\t\tif root is None:\n",
    "\t\t\treturn []\n",
    "\t\tleft = self.preorderTraversal(root.left)\n",
    "\t\tright = self.preorderTraversal(root.right)\n",
    "\n",
    "\t\treturn [root.val ] + left + right\n",
    "\n",
    "\tdef inorderTraversal (self, root:TreeNode):\n",
    "\t\tif root is None:\n",
    "\t\t\treturn []\n",
    "\t\tleft = self.inorderTraversal(root.left)\n",
    "\t\tright = self.inorderTraversal(root.right)\n",
    "\t\treturn left + [root.val] + right\n",
    "\t\n",
    "\tdef postorderTraversal (self, root:TreeNode):\n",
    "\t\tif root is None:\n",
    "\t\t\treturn []\n",
    "\t\tleft = self.postorderTraversal(root.left)\n",
    "\t\tright = self.postorderTraversal(root.right)\n",
    "\t\treturn left + right + [root.val]\n",
    "\n",
    "root = TreeNode(1)\n",
    "root.left = TreeNode(2, TreeNode(4), TreeNode(5))\n",
    "root.right = TreeNode(3, TreeNode(6), TreeNode(7))\n",
    "\n",
    "solution = Solution()\n",
    "\n",
    "res_pre = solution.preorderTraversal(root)\n",
    "print(res_pre)\n",
    "\n",
    "res_in = solution.inorderTraversal(root)\n",
    "print(res_in)\n",
    "\n",
    "res_post = solution.postorderTraversal(root)\n",
    "print(res_post)"
   ]
  },
  {
   "cell_type": "code",
   "execution_count": 105,
   "metadata": {},
   "outputs": [
    {
     "name": "stdout",
     "output_type": "stream",
     "text": [
      "[1, 2, 4, 5, 3, 6, 7]\n",
      "[4, 2, 5, 1, 6, 3, 7]\n",
      "[4, 5, 2, 6, 7, 3, 1]\n"
     ]
    }
   ],
   "source": [
    "class TreeNode:\n",
    "    def __init__ (self, val, left = None, right = None):\n",
    "        self.val  = val\n",
    "        self.left = left\n",
    "        self.right = right\n",
    "\n",
    "class Solution:\n",
    "\tdef preorderTraversal(self, root: TreeNode):\n",
    "\t\tif not root:\n",
    "\t\t\treturn []\n",
    "\t\tstack = [root]\n",
    "\t\tres = []\n",
    "\t\twhile stack:\n",
    "\t\t\tnode = stack.pop()\n",
    "\t\t\tres.append(node.val)\n",
    "\t\t\tif node.right:\n",
    "\t\t\t\tstack.append(node.right)\n",
    "\t\t\tif node.left:\n",
    "\t\t\t\tstack.append(node.left)\n",
    "\n",
    "\t\treturn res\n",
    "\t\n",
    "\tdef inorderTraversal(self, root: TreeNode):\n",
    "\t\tres = []\n",
    "\t\tstack = []\n",
    "\t\tcur = root\n",
    "\t\twhile stack or cur:\n",
    "\t\t\tif cur:\n",
    "\t\t\t\tstack.append(cur)\n",
    "\t\t\t\tcur = cur.left\n",
    "\t\t\telse:\n",
    "\t\t\t\tcur = stack.pop()\n",
    "\t\t\t\tres.append(cur.val)\n",
    "\t\t\t\tcur = cur.right\n",
    "\t\treturn res\n",
    "\n",
    "\tdef postorderTraversal(self, root: TreeNode):\n",
    "\t\tif not root:\n",
    "\t\t\treturn []\n",
    "\t\tstack = [root]\n",
    "\t\tres = []\n",
    "\t\twhile stack:\n",
    "\t\t\tnode = stack.pop()\n",
    "\t\t\tres.append(node.val)\n",
    "\t\t\tif node.left:\n",
    "\t\t\t\tstack.append(node.left)\n",
    "\t\t\tif node.right:\n",
    "\t\t\t\tstack.append(node.right)\n",
    "\n",
    "\t\treturn res[::-1]\n",
    "\n",
    "\n",
    "root = TreeNode(1)\n",
    "root.left = TreeNode(2, TreeNode(4), TreeNode(5))\n",
    "root.right = TreeNode(3, TreeNode(6), TreeNode(7))\n",
    "\n",
    "solution = Solution()\n",
    "\n",
    "res_pre = solution.preorderTraversal(root)\n",
    "print(res_pre)\n",
    "\n",
    "res_in = solution.inorderTraversal(root)\n",
    "print(res_in)\n",
    "\n",
    "res_post = solution.postorderTraversal(root)\n",
    "print(res_post)\n"
   ]
  }
 ],
 "metadata": {
  "kernelspec": {
   "display_name": "myenv",
   "language": "python",
   "name": "myenv"
  },
  "language_info": {
   "codemirror_mode": {
    "name": "ipython",
    "version": 3
   },
   "file_extension": ".py",
   "mimetype": "text/x-python",
   "name": "python",
   "nbconvert_exporter": "python",
   "pygments_lexer": "ipython3",
   "version": "3.10.10"
  },
  "orig_nbformat": 4
 },
 "nbformat": 4,
 "nbformat_minor": 2
}

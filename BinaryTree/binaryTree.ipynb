{
 "cells": [
  {
   "cell_type": "code",
   "execution_count": 20,
   "metadata": {},
   "outputs": [],
   "source": [
    "class TreeNode:\n",
    "    def __init__ (self, val, left = None, right = None):\n",
    "        self.val  = val\n",
    "        self.left = left\n",
    "        self.right = right\n",
    "        \n",
    "def build_tree(nodes):\n",
    "\tif not nodes:\n",
    "\t\treturn None\n",
    "\n",
    "\troot = TreeNode(nodes[0])\n",
    "\ti = 1\n",
    "\tqueue = [root]\n",
    "\n",
    "\twhile i < len(nodes):\n",
    "\t\tcur = queue.pop(0)\n",
    "\n",
    "\t\t# left child\n",
    "\t\tif nodes[i] is not None:\n",
    "\t\t\tcur.left = TreeNode(nodes[i])\n",
    "\t\t\tqueue.append(cur.left)\n",
    "\t\ti += 1\n",
    "\n",
    "\t\tif i >= len(nodes):\n",
    "\t\t\tbreak\n",
    "\t\t\n",
    "\t\t# right child\n",
    "\t\tif nodes[i] is not None:\n",
    "\t\t\tcur.right = TreeNode(nodes[i])\n",
    "\t\t\tqueue.append(cur.right)\n",
    "\t\ti += 1\n",
    "\t\n",
    "\treturn root"
   ]
  },
  {
   "attachments": {},
   "cell_type": "markdown",
   "metadata": {},
   "source": [
    "### 生成樹"
   ]
  },
  {
   "cell_type": "code",
   "execution_count": 24,
   "metadata": {},
   "outputs": [],
   "source": [
    "nodes_list = [1, 2, 3, 4, 5, 6, 7]\n",
    "tree1 = build_tree(nodes_list)"
   ]
  },
  {
   "cell_type": "code",
   "execution_count": 58,
   "metadata": {},
   "outputs": [
    {
     "name": "stdout",
     "output_type": "stream",
     "text": [
      "None\n",
      "7\n",
      "8\n"
     ]
    }
   ],
   "source": [
    "#     1\n",
    "#    /   \\\n",
    "#   2     3\n",
    "#    \\    / \n",
    "#     6   7   \n",
    "#        /\n",
    "#       8\n",
    "nodes_list = [1, 2, 3, None, 6, 7, None, None, None, 8]\n",
    "tree2 = build_tree(nodes_list)\n",
    "\n",
    "tree2.left.right.val\n",
    "tree2.right.left.val\n",
    "print(tree2.right.right)\n",
    "print(tree2.right.left.val)\n",
    "print(tree2.right.left.left.val)\n"
   ]
  },
  {
   "attachments": {},
   "cell_type": "markdown",
   "metadata": {},
   "source": [
    "### 前中後遍歷 遞歸法"
   ]
  },
  {
   "cell_type": "code",
   "execution_count": 25,
   "metadata": {},
   "outputs": [
    {
     "name": "stdout",
     "output_type": "stream",
     "text": [
      "[1, 2, 4, 5, 3, 6, 7]\n",
      "[4, 2, 5, 1, 6, 3, 7]\n",
      "[4, 5, 2, 6, 7, 3, 1]\n"
     ]
    }
   ],
   "source": [
    "class Solution:\n",
    "\tdef preorderTraversal (self, root: TreeNode):\n",
    "\t\tif root is None:\n",
    "\t\t\treturn []\n",
    "\t\tleft = self.preorderTraversal(root.left)\n",
    "\t\tright = self.preorderTraversal(root.right)\n",
    "\n",
    "\t\treturn [root.val ] + left + right\n",
    "\n",
    "\tdef inorderTraversal (self, root:TreeNode):\n",
    "\t\tif root is None:\n",
    "\t\t\treturn []\n",
    "\t\tleft = self.inorderTraversal(root.left)\n",
    "\t\tright = self.inorderTraversal(root.right)\n",
    "\t\treturn left + [root.val] + right\n",
    "\t\n",
    "\tdef postorderTraversal (self, root:TreeNode):\n",
    "\t\tif root is None:\n",
    "\t\t\treturn []\n",
    "\t\tleft = self.postorderTraversal(root.left)\n",
    "\t\tright = self.postorderTraversal(root.right)\n",
    "\t\treturn left + right + [root.val]\n",
    "\n",
    "\n",
    "solution = Solution()\n",
    "\n",
    "tree = tree1 \n",
    "\n",
    "res_pre = solution.preorderTraversal(tree)\n",
    "print(res_pre)\n",
    "\n",
    "res_in = solution.inorderTraversal(tree)\n",
    "print(res_in)\n",
    "\n",
    "res_post = solution.postorderTraversal(tree)\n",
    "print(res_post)"
   ]
  },
  {
   "attachments": {},
   "cell_type": "markdown",
   "metadata": {},
   "source": [
    "### 前中後遍歷 迭代法"
   ]
  },
  {
   "cell_type": "code",
   "execution_count": 27,
   "metadata": {},
   "outputs": [
    {
     "name": "stdout",
     "output_type": "stream",
     "text": [
      "[1, 2, 4, 5, 3, 6, 7]\n",
      "[4, 2, 5, 1, 6, 3, 7]\n",
      "[4, 5, 2, 6, 7, 3, 1]\n"
     ]
    }
   ],
   "source": [
    "class Solution:\n",
    "\tdef preorderTraversal(self, root: TreeNode):\n",
    "\t\tif not root:\n",
    "\t\t\treturn []\n",
    "\t\tstack = [root]\n",
    "\t\tres = []\n",
    "\t\twhile stack:\n",
    "\t\t\tnode = stack.pop()\n",
    "\t\t\tres.append(node.val)\n",
    "\t\t\tif node.right:\n",
    "\t\t\t\tstack.append(node.right)\n",
    "\t\t\tif node.left:\n",
    "\t\t\t\tstack.append(node.left)\n",
    "\n",
    "\t\treturn res\n",
    "\t\n",
    "\tdef inorderTraversal(self, root: TreeNode):\n",
    "\t\tres = []\n",
    "\t\tstack = []\n",
    "\t\tcur = root\n",
    "\t\twhile stack or cur:\n",
    "\t\t\tif cur:\n",
    "\t\t\t\tstack.append(cur)\n",
    "\t\t\t\tcur = cur.left\n",
    "\t\t\telse:\n",
    "\t\t\t\tcur = stack.pop()\n",
    "\t\t\t\tres.append(cur.val)\n",
    "\t\t\t\tcur = cur.right\n",
    "\t\treturn res\n",
    "\n",
    "\tdef postorderTraversal(self, root: TreeNode):\n",
    "\t\tif not root:\n",
    "\t\t\treturn []\n",
    "\t\tstack = [root]\n",
    "\t\tres = []\n",
    "\t\twhile stack:\n",
    "\t\t\tnode = stack.pop()\n",
    "\t\t\tres.append(node.val)\n",
    "\t\t\tif node.left:\n",
    "\t\t\t\tstack.append(node.left)\n",
    "\t\t\tif node.right:\n",
    "\t\t\t\tstack.append(node.right)\n",
    "\n",
    "\t\treturn res[::-1]\n",
    "\n",
    "tree = tree1 \n",
    "\n",
    "solution = Solution()\n",
    "\n",
    "res_pre = solution.preorderTraversal(tree)\n",
    "print(res_pre)\n",
    "\n",
    "res_in = solution.inorderTraversal(tree)\n",
    "print(res_in)\n",
    "\n",
    "res_post = solution.postorderTraversal(tree)\n",
    "print(res_post)\n"
   ]
  },
  {
   "cell_type": "code",
   "execution_count": 28,
   "metadata": {},
   "outputs": [
    {
     "name": "stdout",
     "output_type": "stream",
     "text": [
      "7\n",
      "3\n",
      "6\n",
      "1\n",
      "5\n",
      "2\n",
      "4\n"
     ]
    }
   ],
   "source": [
    "class Solution:\n",
    "\tdef invertTree (self, root: TreeNode):\n",
    "\t\tif root is None:\n",
    "\t\t\treturn root\n",
    "\t\troot.left, root.right = root.right, root.left\n",
    "\t\tself.invertTree(root.left)\n",
    "\t\tself.invertTree(root.right)\n",
    "\t\treturn root\n",
    "\t\n",
    "\tdef print_tree(self, root):\n",
    "\t\tif root is None:\n",
    "\t\t\treturn\n",
    "\t\t# 遞歸地印出左子樹\n",
    "\t\tself.print_tree(root.left)\n",
    "\t\t# 印出當前節點的值\n",
    "\t\tprint(root.val)\n",
    "\t\t# 遞歸地印出右子樹\n",
    "\t\tself.print_tree(root.right)\n",
    "\n",
    "\n",
    "tree = tree1 \n",
    "\n",
    "solution = Solution()\n",
    "res = solution.invertTree(tree)\n",
    "\n",
    "solution.print_tree(res)"
   ]
  },
  {
   "cell_type": "code",
   "execution_count": 30,
   "metadata": {},
   "outputs": [
    {
     "data": {
      "text/plain": [
       "3"
      ]
     },
     "execution_count": 30,
     "metadata": {},
     "output_type": "execute_result"
    }
   ],
   "source": [
    "class Solution:\n",
    "\tdef getDepth (self, root: TreeNode):\n",
    "\t\tif root is None:\n",
    "\t\t\treturn 0\n",
    "\t\tleftDepth = self.getDepth(root.left)\n",
    "\t\trightDepth = self.getDepth(root.right)\n",
    "\t\tif root.left is None and root.right is not None:\n",
    "\t\t\treturn 1 + rightDepth\n",
    "\t\tif root.right is None and root.left is not None:\n",
    "\t\t\treturn 1 + leftDepth\n",
    "\t\treturn 1 + min(leftDepth, rightDepth)\n",
    "\n",
    "\n",
    "tree = tree2\n",
    "\n",
    "solution = Solution()\n",
    "res = solution.getDepth(tree)\n",
    "\n",
    "res"
   ]
  },
  {
   "cell_type": "code",
   "execution_count": 31,
   "metadata": {},
   "outputs": [
    {
     "data": {
      "text/plain": [
       "4"
      ]
     },
     "execution_count": 31,
     "metadata": {},
     "output_type": "execute_result"
    }
   ],
   "source": [
    "class TreeNode:\n",
    "    def __init__ (self, val, left = None, right = None):\n",
    "        self.val  = val\n",
    "        self.left = left\n",
    "        self.right = right\n",
    "        \n",
    "class Solution:\n",
    "\tdef getDepth (self, root: TreeNode):\n",
    "\t\tif root is None:\n",
    "\t\t\treturn 0\n",
    "\t\tleftDepth = self.getDepth(root.left)\n",
    "\t\trightDepth = self.getDepth(root.right)\n",
    "\t\treturn 1 + max(leftDepth, rightDepth)\n",
    "\t\n",
    "\tdef getMaxDepth (self, root: TreeNode):\n",
    "\t\treturn self.getDepth(root)\n",
    "\n",
    "tree = tree2\n",
    "\n",
    "solution = Solution()\n",
    "res = solution.getMaxDepth(tree)\n",
    "\n",
    "res"
   ]
  },
  {
   "attachments": {},
   "cell_type": "markdown",
   "metadata": {},
   "source": [
    "### 層序遍歷"
   ]
  },
  {
   "cell_type": "code",
   "execution_count": 32,
   "metadata": {},
   "outputs": [
    {
     "data": {
      "text/plain": [
       "[[1], [2, 3], [6, 7], [8]]"
      ]
     },
     "execution_count": 32,
     "metadata": {},
     "output_type": "execute_result"
    }
   ],
   "source": [
    "class Solution:\n",
    "\tdef levelOrder (self, root: TreeNode):\n",
    "\t\tif not root:\n",
    "\t\t\treturn []\n",
    "\t\timport collections\n",
    "\t\tqueue = collections.deque([root])\n",
    "\t\tres = []\n",
    "\t\twhile queue:\n",
    "\t\t\tlevel = []\n",
    "\t\t\tfor _ in range(len(queue)):\n",
    "\t\t\t\tcur = queue.popleft()\n",
    "\t\t\t\tlevel.append(cur.val)\n",
    "\t\t\t\tif cur.left:\n",
    "\t\t\t\t\tqueue.append(cur.left)\n",
    "\t\t\t\tif cur.right:\n",
    "\t\t\t\t\tqueue.append(cur.right)\n",
    "\t\t\tres.append(level)\n",
    "\t\treturn res\n",
    "\n",
    "tree = tree2\n",
    "\n",
    "s = Solution()\n",
    "res = s.levelOrder(tree)\n",
    "\n",
    "res"
   ]
  },
  {
   "attachments": {},
   "cell_type": "markdown",
   "metadata": {},
   "source": [
    "### 完全二叉樹的節點個數-迭代法"
   ]
  },
  {
   "cell_type": "code",
   "execution_count": 33,
   "metadata": {},
   "outputs": [
    {
     "data": {
      "text/plain": [
       "6"
      ]
     },
     "execution_count": 33,
     "metadata": {},
     "output_type": "execute_result"
    }
   ],
   "source": [
    "from collections import deque\n",
    "        \n",
    "class Solution:\n",
    "\tdef getNodeSum (self, root: TreeNode):\n",
    "\t\tqueue = deque([])\n",
    "\t\tif root:\n",
    "\t\t\tqueue.append(root)\n",
    "\t\tres = 0\n",
    "\t\twhile queue:\n",
    "\t\t\tfor _ in range(len(queue)):\n",
    "\t\t\t\tcur = queue.popleft()\n",
    "\t\t\t\tres += 1\n",
    "\t\t\t\tif cur.left:\n",
    "\t\t\t\t\tqueue.append(cur.left)\n",
    "\t\t\t\tif cur.right:\n",
    "\t\t\t\t\tqueue.append(cur.right)\n",
    "\t\treturn res\n",
    "\n",
    "\n",
    "tree = tree2\n",
    "\n",
    "s = Solution()\n",
    "res = s.getNodeSum(tree)\n",
    "\n",
    "res"
   ]
  },
  {
   "attachments": {},
   "cell_type": "markdown",
   "metadata": {},
   "source": [
    "### 平衡二叉树"
   ]
  },
  {
   "cell_type": "code",
   "execution_count": 36,
   "metadata": {},
   "outputs": [
    {
     "name": "stdout",
     "output_type": "stream",
     "text": [
      "True\n",
      "False\n"
     ]
    }
   ],
   "source": [
    "class Solution:\n",
    "\tdef isBalanced (self, root: TreeNode):\n",
    "\t\treturn self.getHeight(root) != -1\n",
    "\n",
    "\tdef getHeight (self, root: TreeNode):\n",
    "\t\tif not root:\n",
    "\t\t\treturn 0\n",
    "\t\tleft_height = self.getHeight(root.left)\n",
    "\t\tif left_height == -1:\n",
    "\t\t\treturn -1\n",
    "\t\tright_height = self.getHeight(root.right)\n",
    "\t\tif right_height == -1:\n",
    "\t\t\treturn -1\n",
    "\t\tif abs(left_height - right_height) > 1:\n",
    "\t\t\treturn -1\n",
    "\t\telse :\n",
    "\t\t\treturn 1 + max(left_height, right_height)\n",
    "\n",
    "\n",
    "s = Solution()\n",
    "print(s.isBalanced(tree1))\n",
    "print(s.isBalanced(tree2))"
   ]
  },
  {
   "attachments": {},
   "cell_type": "markdown",
   "metadata": {},
   "source": [
    "### 二叉樹的所有路徑"
   ]
  },
  {
   "cell_type": "code",
   "execution_count": 65,
   "metadata": {},
   "outputs": [
    {
     "name": "stdout",
     "output_type": "stream",
     "text": [
      "[[1, 2, 4], [1, 2, 5], [1, 3, 6], [1, 3, 7]]\n",
      "[[1, 2, 6], [1, 3, 7, 8]]\n"
     ]
    }
   ],
   "source": [
    "class Solution:\n",
    "\tdef traversal(self, cur, path, result):\n",
    "\t\tpath.append(cur.val)\n",
    "\t\tif cur.left is None and cur.right is None:\n",
    "\t\t\tresult.append(list(path))\n",
    "\t\t\treturn\n",
    "\n",
    "\t\tif cur.left is not None:\n",
    "\t\t\tself.traversal(cur.left, path ,result)\n",
    "\t\t\tpath.pop()\n",
    "\n",
    "\t\tif cur.right is not None:\n",
    "\t\t\tself.traversal(cur.right, path ,result)\n",
    "\t\t\tpath.pop()\n",
    "\n",
    "\tdef binaryTreePaths(self, root):\n",
    "\t\tresult = []\n",
    "\t\tpath = []\n",
    "\t\tif not root:\n",
    "\t\t\treturn result\n",
    "\t\tself.traversal(root, path, result)\n",
    "\t\treturn result\n",
    "\n",
    "s = Solution()\n",
    "answ = s.binaryTreePaths(tree1)\n",
    "answ2 = s.binaryTreePaths(tree2)\n",
    "print(answ)\n",
    "print(answ2)"
   ]
  },
  {
   "attachments": {},
   "cell_type": "markdown",
   "metadata": {},
   "source": [
    "### 二叉樹的所有路徑 - 迭代法"
   ]
  },
  {
   "cell_type": "code",
   "execution_count": 84,
   "metadata": {},
   "outputs": [
    {
     "name": "stdout",
     "output_type": "stream",
     "text": [
      "['1->2->4', '1->2->5', '1->3->6', '1->3->7']\n",
      "['1->2->6', '1->3->7->8']\n"
     ]
    }
   ],
   "source": [
    "class Solution:\n",
    "\tdef binaryTreePaths(self, root):\n",
    "\t\tresult = []\n",
    "\t\tpath_st = [str(root.val)]\n",
    "\t\tstack = [root]\n",
    "\n",
    "\t\twhile stack:\n",
    "\t\t\tcur = stack.pop()\n",
    "\t\t\tpath = path_st.pop()\n",
    "\n",
    "\t\t\tif not (cur.left or cur.right):\n",
    "\t\t\t\tresult.append(path)\n",
    "\t\t\t\n",
    "\t\t\tif cur.right:\n",
    "\t\t\t\tstack.append(cur.right)\n",
    "\t\t\t\tpath_st.append(path + '->' + str(cur.right.val))\n",
    "\n",
    "\t\t\tif cur.left:\n",
    "\t\t\t\tstack.append(cur.left)\n",
    "\t\t\t\tpath_st.append(path + '->' + str(cur.left.val))\n",
    "\t\t\t\n",
    "\t\treturn result\n",
    "\n",
    "s = Solution()\n",
    "answ = s.binaryTreePaths(tree1)\n",
    "answ2 = s.binaryTreePaths(tree2)\n",
    "print(answ)\n",
    "print(answ2)"
   ]
  },
  {
   "attachments": {},
   "cell_type": "markdown",
   "metadata": {},
   "source": [
    "### 相同的樹"
   ]
  },
  {
   "cell_type": "code",
   "execution_count": 92,
   "metadata": {},
   "outputs": [
    {
     "name": "stdout",
     "output_type": "stream",
     "text": [
      "True\n",
      "False\n"
     ]
    }
   ],
   "source": [
    "class Solution:\n",
    "\n",
    "\tdef compare(self, p: TreeNode, q: TreeNode):\n",
    "\t\tif p is None and q:\n",
    "\t\t\treturn False\n",
    "\t\telif p and q is None:\n",
    "\t\t\treturn False\n",
    "\t\telif p is None and q is None:\n",
    "\t\t\treturn True\n",
    "\t\telif q.val != p.val:\n",
    "\t\t\treturn False\n",
    "\t\t\n",
    "\t\treturn self.compare(p.left, q.left) and self.compare(p.right, q.right)\n",
    "\n",
    "\n",
    "\tdef isSymmetric(self, p: TreeNode, q: TreeNode):\n",
    "\t\treturn self.compare(p, q)\n",
    "\n",
    "nodes_list = [1, 2, 3, 4, 5, 6, 7]\n",
    "tree_tmp = build_tree(nodes_list)\n",
    "\n",
    "s = Solution()\n",
    "answ = s.isSymmetric(tree1, tree_tmp)\n",
    "\n",
    "s = Solution()\n",
    "answ2 = s.isSymmetric(tree1, tree2)\n",
    "\n",
    "print(answ)\n",
    "print(answ2)"
   ]
  },
  {
   "attachments": {},
   "cell_type": "markdown",
   "metadata": {},
   "source": [
    "### 404.左葉子之和"
   ]
  },
  {
   "cell_type": "code",
   "execution_count": 104,
   "metadata": {},
   "outputs": [
    {
     "name": "stdout",
     "output_type": "stream",
     "text": [
      "10\n",
      "8\n",
      "30\n"
     ]
    }
   ],
   "source": [
    "class Solution:\n",
    "\n",
    "\tdef sumOfLeftLeaves(self, root: TreeNode):\n",
    "\t\tif not root:\n",
    "\t\t\treturn 0\n",
    "\t\tif root.left and root.left.left is None and root.left.right is None:\n",
    "\t\t\treturn root.left.val\n",
    "\n",
    "\t\tleftLeaf = self.sumOfLeftLeaves(root.left)\n",
    "\t\trightLeaf = self.sumOfLeftLeaves(root.right)\n",
    "\t\treturn leftLeaf + rightLeaf\n",
    "\n",
    "s = Solution()\n",
    "answ = s.sumOfLeftLeaves(tree1)\n",
    "answ2 = s.sumOfLeftLeaves(tree2)\n",
    "\n",
    "nodes_list = [1, 2, 3, 4, None, 6, 7, 8, None, 9, None, 10, None, 11, None ]\n",
    "tree3 = build_tree(nodes_list)\n",
    "answ3 = s.sumOfLeftLeaves(tree3)\n",
    "\n",
    "print(answ)\n",
    "print(answ2)\n",
    "print(answ3)"
   ]
  },
  {
   "cell_type": "code",
   "execution_count": 108,
   "metadata": {},
   "outputs": [
    {
     "name": "stdout",
     "output_type": "stream",
     "text": [
      "10\n",
      "8\n",
      "30\n"
     ]
    }
   ],
   "source": [
    "class Solution:\n",
    "\n",
    "\tdef sumOfLeftLeaves(self, root: TreeNode):\n",
    "\t\tif not root:\n",
    "\t\t\treturn 0\n",
    "\t\tstack = [root]\n",
    "\t\ttotal = 0\n",
    "\t\twhile stack:\n",
    "\t\t\tcur = stack.pop()\n",
    "\t\t\tif cur.left and cur.left.left is None and cur.left.right is None:\n",
    "\t\t\t\ttotal += cur.left.val\n",
    "\t\t\tif cur.right:\n",
    "\t\t\t\tstack.append(cur.right)\n",
    "\t\t\tif cur.left:\n",
    "\t\t\t\tstack.append(cur.left)\n",
    "\t\treturn total\n",
    "\n",
    "\n",
    "s = Solution()\n",
    "answ = s.sumOfLeftLeaves(tree1)\n",
    "answ2 = s.sumOfLeftLeaves(tree2)\n",
    "\n",
    "nodes_list = [1, 2, 3, 4, None, 6, 7, 8, None, 9, None, 10, None, 11, None ]\n",
    "tree3 = build_tree(nodes_list)\n",
    "answ3 = s.sumOfLeftLeaves(tree3)\n",
    "\n",
    "print(answ)\n",
    "print(answ2)\n",
    "print(answ3)"
   ]
  },
  {
   "attachments": {},
   "cell_type": "markdown",
   "metadata": {},
   "source": [
    "### 513.找树左下角的值"
   ]
  },
  {
   "cell_type": "code",
   "execution_count": 123,
   "metadata": {},
   "outputs": [
    {
     "name": "stdout",
     "output_type": "stream",
     "text": [
      "4\n",
      "8\n"
     ]
    }
   ],
   "source": [
    "class Solution:\n",
    "\tdef traversal(self, root: TreeNode, depth):\n",
    "\t\tif not root.left and not root.right:\n",
    "\t\t\tif depth > self.max_depth:\n",
    "\t\t\t\tself.max_depth = depth\n",
    "\t\t\t\tself.result = root.val\n",
    "\t\t\treturn\n",
    "\n",
    "\t\tif root.left:\n",
    "\t\t\tdepth += 1\n",
    "\t\t\tself.traversal(root.left, depth)\n",
    "\t\t\tdepth -= 1\n",
    "\n",
    "\t\tif root.right:\n",
    "\t\t\tdepth += 1\n",
    "\t\t\tself.traversal(root.right, depth)\n",
    "\t\t\tdepth -= 1\n",
    "\t\t\n",
    "\t\treturn\n",
    "\t\n",
    "\tdef findBottomLeftValue (self, root: TreeNode):\n",
    "\t\tself.max_depth = float('-inf')\n",
    "\t\tself.result = None\n",
    "\t\tself.traversal(root, 0)\n",
    "\t\treturn self.result\n",
    "\n",
    "\n",
    "s = Solution()\n",
    "answ = s.findBottomLeftValue(tree1)\n",
    "answ2 = s.findBottomLeftValue(tree2)\n",
    "print(answ)\n",
    "print(answ2)"
   ]
  },
  {
   "cell_type": "code",
   "execution_count": 128,
   "metadata": {},
   "outputs": [
    {
     "name": "stdout",
     "output_type": "stream",
     "text": [
      "4\n",
      "8\n"
     ]
    }
   ],
   "source": [
    "from collections import deque\n",
    "class Solution:\n",
    "\tdef findBottomLeftValue (self, root: TreeNode):\n",
    "\t\tif not root:\n",
    "\t\t\treturn 0\n",
    "\n",
    "\t\tqueue = deque([root])\n",
    "\n",
    "\t\twhile queue:\n",
    "\t\t\tfor i in range(len(queue)):\n",
    "\t\t\t\tcur = queue.popleft()\n",
    "\t\t\t\tif i == 0:\n",
    "\t\t\t\t\tresult = cur.val\n",
    "\t\t\t\tif cur.left:\n",
    "\t\t\t\t\tqueue.append(cur.left)\n",
    "\t\t\t\tif cur.right:\n",
    "\t\t\t\t\tqueue.append(cur.right)\n",
    "\n",
    "\t\treturn result\n",
    "\n",
    "\n",
    "s = Solution()\n",
    "answ = s.findBottomLeftValue(tree1)\n",
    "answ2 = s.findBottomLeftValue(tree2)\n",
    "print(answ)\n",
    "print(answ2)"
   ]
  },
  {
   "attachments": {},
   "cell_type": "markdown",
   "metadata": {},
   "source": [
    "### 112. 路径总和"
   ]
  },
  {
   "cell_type": "code",
   "execution_count": 157,
   "metadata": {},
   "outputs": [
    {
     "name": "stdout",
     "output_type": "stream",
     "text": [
      "True\n",
      "False\n"
     ]
    }
   ],
   "source": [
    "class Solution:\n",
    "\n",
    "\tdef traversal(self, node: TreeNode, rest):\n",
    "\t\tif not node.left and not node.right:\n",
    "\t\t\tif rest == 0:\n",
    "\t\t\t\treturn True\n",
    "\t\t\telse:\n",
    "\t\t\t\treturn False\n",
    "\n",
    "\t\tif node.left:\n",
    "\t\t\trest -= node.left.val\n",
    "\t\t\tif self.traversal(node.left, rest):\n",
    "\t\t\t\treturn True\n",
    "\t\t\trest += node.left.val\n",
    "\n",
    "\t\tif node.right:\n",
    "\t\t\trest -= node.right.val\n",
    "\t\t\tif self.traversal(node.right, rest):\n",
    "\t\t\t\treturn True\n",
    "\t\t\trest += node.right.val\n",
    "\t\t\n",
    "\t\treturn False\n",
    "\n",
    "\tdef hasPathSum(self, root: TreeNode, sum):\n",
    "\t\tif not root:\n",
    "\t\t\treturn False\n",
    "\t\treturn self.traversal(root, sum - root.val)\n",
    "\n",
    "\n",
    "s = Solution()\n",
    "answ = s.hasPathSum(tree1, 11)\n",
    "answ2 = s.hasPathSum(tree2, 11)\n",
    "print(answ)\n",
    "print(answ2)"
   ]
  },
  {
   "cell_type": "code",
   "execution_count": 155,
   "metadata": {},
   "outputs": [
    {
     "name": "stdout",
     "output_type": "stream",
     "text": [
      "True\n",
      "False\n"
     ]
    }
   ],
   "source": [
    "class Solution:\n",
    "\tdef hasPathSum(self, root: TreeNode, sum):\n",
    "\t\tif not root:\n",
    "\t\t\treturn False\n",
    "\t\tst = [(root, root.val)]\n",
    "\t\twhile st:\n",
    "\t\t\tnode, total = st.pop()\n",
    "\t\t\tif not node.left and not node.right and total == sum:\n",
    "\t\t\t\treturn True\n",
    "\t\t\tif node.left:\n",
    "\t\t\t\tst.append((node.left, total + node.left.val ))\n",
    "\n",
    "\t\t\tif node.right:\n",
    "\t\t\t\tst.append((node.right, total + node.right.val ))\n",
    "\t\t\n",
    "\t\treturn False\n",
    "\n",
    "\n",
    "\n",
    "s = Solution()\n",
    "answ = s.hasPathSum(tree1, 11)\n",
    "answ2 = s.hasPathSum(tree2, 11)\n",
    "print(answ)\n",
    "print(answ2)"
   ]
  },
  {
   "attachments": {},
   "cell_type": "markdown",
   "metadata": {},
   "source": [
    "### 0106.從中序與後序遍歷序列建構二元樹"
   ]
  },
  {
   "cell_type": "code",
   "execution_count": 169,
   "metadata": {},
   "outputs": [
    {
     "name": "stdout",
     "output_type": "stream",
     "text": [
      "<__main__.TreeNode object at 0x7fb7a1348400>\n",
      "9\n",
      "20\n"
     ]
    }
   ],
   "source": [
    "from typing import List\n",
    "class Solution:\n",
    "\tdef buildTree(self, inorder: List[int], postorder: List[int]):\n",
    "\t\tif len(postorder) == 0:\n",
    "\t\t\treturn\n",
    "\t\tmid_val = postorder[-1]\n",
    "\t\tnode = TreeNode(mid_val)\n",
    "\t\tdivide_idx = inorder.index(mid_val)\n",
    "\t\tinorder_left = inorder[:divide_idx]\n",
    "\t\tinorder_right = inorder[divide_idx + 1:]\n",
    "\t\t\n",
    "\t\tpostorder_left = postorder[:len(inorder_left)]\n",
    "\t\tpostorder_right = postorder[len(inorder_left): len(postorder) - 1]\n",
    "\t\t\n",
    "\t\tnode.left = self.buildTree(inorder_left, postorder_left)\n",
    "\t\tnode.right = self.buildTree(inorder_right, postorder_right)\n",
    "\n",
    "\t\treturn node\n",
    "\n",
    "\n",
    "\n",
    "\n",
    "s = Solution()\n",
    "answ = s.buildTree([9,3,15,20,7],  [9,15,7,20,3])\n",
    "print(answ)\n",
    "print(answ.left.val)\n",
    "print(answ.right.val)"
   ]
  }
 ],
 "metadata": {
  "kernelspec": {
   "display_name": "myenv",
   "language": "python",
   "name": "myenv"
  },
  "language_info": {
   "codemirror_mode": {
    "name": "ipython",
    "version": 3
   },
   "file_extension": ".py",
   "mimetype": "text/x-python",
   "name": "python",
   "nbconvert_exporter": "python",
   "pygments_lexer": "ipython3",
   "version": "3.10.10"
  },
  "orig_nbformat": 4
 },
 "nbformat": 4,
 "nbformat_minor": 2
}

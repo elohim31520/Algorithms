{
 "cells": [
  {
   "cell_type": "code",
   "execution_count": 20,
   "metadata": {},
   "outputs": [],
   "source": [
    "class TreeNode:\n",
    "    def __init__ (self, val, left = None, right = None):\n",
    "        self.val  = val\n",
    "        self.left = left\n",
    "        self.right = right\n",
    "        \n",
    "def build_tree(nodes):\n",
    "\tif not nodes:\n",
    "\t\treturn None\n",
    "\n",
    "\troot = TreeNode(nodes[0])\n",
    "\ti = 1\n",
    "\tqueue = [root]\n",
    "\n",
    "\twhile i < len(nodes):\n",
    "\t\tcur = queue.pop(0)\n",
    "\n",
    "\t\t# left child\n",
    "\t\tif nodes[i] is not None:\n",
    "\t\t\tcur.left = TreeNode(nodes[i])\n",
    "\t\t\tqueue.append(cur.left)\n",
    "\t\ti += 1\n",
    "\n",
    "\t\tif i >= len(nodes):\n",
    "\t\t\tbreak\n",
    "\t\t\n",
    "\t\t# right child\n",
    "\t\tif nodes[i] is not None:\n",
    "\t\t\tcur.right = TreeNode(nodes[i])\n",
    "\t\t\tqueue.append(cur.right)\n",
    "\t\ti += 1\n",
    "\t\n",
    "\treturn root"
   ]
  },
  {
   "attachments": {},
   "cell_type": "markdown",
   "metadata": {},
   "source": [
    "### 生成樹"
   ]
  },
  {
   "cell_type": "code",
   "execution_count": 24,
   "metadata": {},
   "outputs": [],
   "source": [
    "nodes_list = [1, 2, 3, 4, 5, 6, 7]\n",
    "tree1 = build_tree(nodes_list)"
   ]
  },
  {
   "cell_type": "code",
   "execution_count": 58,
   "metadata": {},
   "outputs": [
    {
     "name": "stdout",
     "output_type": "stream",
     "text": [
      "None\n",
      "7\n",
      "8\n"
     ]
    }
   ],
   "source": [
    "#     1\n",
    "#    /   \\\n",
    "#   2     3\n",
    "#    \\    / \n",
    "#     6   7   \n",
    "#        /\n",
    "#       8\n",
    "nodes_list = [1, 2, 3, None, 6, 7, None, None, None, 8]\n",
    "tree2 = build_tree(nodes_list)\n",
    "\n",
    "tree2.left.right.val\n",
    "tree2.right.left.val\n",
    "print(tree2.right.right)\n",
    "print(tree2.right.left.val)\n",
    "print(tree2.right.left.left.val)\n"
   ]
  },
  {
   "attachments": {},
   "cell_type": "markdown",
   "metadata": {},
   "source": [
    "### 前中後遍歷 遞歸法"
   ]
  },
  {
   "cell_type": "code",
   "execution_count": 25,
   "metadata": {},
   "outputs": [
    {
     "name": "stdout",
     "output_type": "stream",
     "text": [
      "[1, 2, 4, 5, 3, 6, 7]\n",
      "[4, 2, 5, 1, 6, 3, 7]\n",
      "[4, 5, 2, 6, 7, 3, 1]\n"
     ]
    }
   ],
   "source": [
    "class Solution:\n",
    "\tdef preorderTraversal (self, root: TreeNode):\n",
    "\t\tif root is None:\n",
    "\t\t\treturn []\n",
    "\t\tleft = self.preorderTraversal(root.left)\n",
    "\t\tright = self.preorderTraversal(root.right)\n",
    "\n",
    "\t\treturn [root.val ] + left + right\n",
    "\n",
    "\tdef inorderTraversal (self, root:TreeNode):\n",
    "\t\tif root is None:\n",
    "\t\t\treturn []\n",
    "\t\tleft = self.inorderTraversal(root.left)\n",
    "\t\tright = self.inorderTraversal(root.right)\n",
    "\t\treturn left + [root.val] + right\n",
    "\t\n",
    "\tdef postorderTraversal (self, root:TreeNode):\n",
    "\t\tif root is None:\n",
    "\t\t\treturn []\n",
    "\t\tleft = self.postorderTraversal(root.left)\n",
    "\t\tright = self.postorderTraversal(root.right)\n",
    "\t\treturn left + right + [root.val]\n",
    "\n",
    "\n",
    "solution = Solution()\n",
    "\n",
    "tree = tree1 \n",
    "\n",
    "res_pre = solution.preorderTraversal(tree)\n",
    "print(res_pre)\n",
    "\n",
    "res_in = solution.inorderTraversal(tree)\n",
    "print(res_in)\n",
    "\n",
    "res_post = solution.postorderTraversal(tree)\n",
    "print(res_post)"
   ]
  },
  {
   "attachments": {},
   "cell_type": "markdown",
   "metadata": {},
   "source": [
    "### 前中後遍歷 迭代法"
   ]
  },
  {
   "cell_type": "code",
   "execution_count": 27,
   "metadata": {},
   "outputs": [
    {
     "name": "stdout",
     "output_type": "stream",
     "text": [
      "[1, 2, 4, 5, 3, 6, 7]\n",
      "[4, 2, 5, 1, 6, 3, 7]\n",
      "[4, 5, 2, 6, 7, 3, 1]\n"
     ]
    }
   ],
   "source": [
    "class Solution:\n",
    "\tdef preorderTraversal(self, root: TreeNode):\n",
    "\t\tif not root:\n",
    "\t\t\treturn []\n",
    "\t\tstack = [root]\n",
    "\t\tres = []\n",
    "\t\twhile stack:\n",
    "\t\t\tnode = stack.pop()\n",
    "\t\t\tres.append(node.val)\n",
    "\t\t\tif node.right:\n",
    "\t\t\t\tstack.append(node.right)\n",
    "\t\t\tif node.left:\n",
    "\t\t\t\tstack.append(node.left)\n",
    "\n",
    "\t\treturn res\n",
    "\t\n",
    "\tdef inorderTraversal(self, root: TreeNode):\n",
    "\t\tres = []\n",
    "\t\tstack = []\n",
    "\t\tcur = root\n",
    "\t\twhile stack or cur:\n",
    "\t\t\tif cur:\n",
    "\t\t\t\tstack.append(cur)\n",
    "\t\t\t\tcur = cur.left\n",
    "\t\t\telse:\n",
    "\t\t\t\tcur = stack.pop()\n",
    "\t\t\t\tres.append(cur.val)\n",
    "\t\t\t\tcur = cur.right\n",
    "\t\treturn res\n",
    "\n",
    "\tdef postorderTraversal(self, root: TreeNode):\n",
    "\t\tif not root:\n",
    "\t\t\treturn []\n",
    "\t\tstack = [root]\n",
    "\t\tres = []\n",
    "\t\twhile stack:\n",
    "\t\t\tnode = stack.pop()\n",
    "\t\t\tres.append(node.val)\n",
    "\t\t\tif node.left:\n",
    "\t\t\t\tstack.append(node.left)\n",
    "\t\t\tif node.right:\n",
    "\t\t\t\tstack.append(node.right)\n",
    "\n",
    "\t\treturn res[::-1]\n",
    "\n",
    "tree = tree1 \n",
    "\n",
    "solution = Solution()\n",
    "\n",
    "res_pre = solution.preorderTraversal(tree)\n",
    "print(res_pre)\n",
    "\n",
    "res_in = solution.inorderTraversal(tree)\n",
    "print(res_in)\n",
    "\n",
    "res_post = solution.postorderTraversal(tree)\n",
    "print(res_post)\n"
   ]
  },
  {
   "cell_type": "code",
   "execution_count": 28,
   "metadata": {},
   "outputs": [
    {
     "name": "stdout",
     "output_type": "stream",
     "text": [
      "7\n",
      "3\n",
      "6\n",
      "1\n",
      "5\n",
      "2\n",
      "4\n"
     ]
    }
   ],
   "source": [
    "class Solution:\n",
    "\tdef invertTree (self, root: TreeNode):\n",
    "\t\tif root is None:\n",
    "\t\t\treturn root\n",
    "\t\troot.left, root.right = root.right, root.left\n",
    "\t\tself.invertTree(root.left)\n",
    "\t\tself.invertTree(root.right)\n",
    "\t\treturn root\n",
    "\t\n",
    "\tdef print_tree(self, root):\n",
    "\t\tif root is None:\n",
    "\t\t\treturn\n",
    "\t\t# 遞歸地印出左子樹\n",
    "\t\tself.print_tree(root.left)\n",
    "\t\t# 印出當前節點的值\n",
    "\t\tprint(root.val)\n",
    "\t\t# 遞歸地印出右子樹\n",
    "\t\tself.print_tree(root.right)\n",
    "\n",
    "\n",
    "tree = tree1 \n",
    "\n",
    "solution = Solution()\n",
    "res = solution.invertTree(tree)\n",
    "\n",
    "solution.print_tree(res)"
   ]
  },
  {
   "cell_type": "code",
   "execution_count": 30,
   "metadata": {},
   "outputs": [
    {
     "data": {
      "text/plain": [
       "3"
      ]
     },
     "execution_count": 30,
     "metadata": {},
     "output_type": "execute_result"
    }
   ],
   "source": [
    "class Solution:\n",
    "\tdef getDepth (self, root: TreeNode):\n",
    "\t\tif root is None:\n",
    "\t\t\treturn 0\n",
    "\t\tleftDepth = self.getDepth(root.left)\n",
    "\t\trightDepth = self.getDepth(root.right)\n",
    "\t\tif root.left is None and root.right is not None:\n",
    "\t\t\treturn 1 + rightDepth\n",
    "\t\tif root.right is None and root.left is not None:\n",
    "\t\t\treturn 1 + leftDepth\n",
    "\t\treturn 1 + min(leftDepth, rightDepth)\n",
    "\n",
    "\n",
    "tree = tree2\n",
    "\n",
    "solution = Solution()\n",
    "res = solution.getDepth(tree)\n",
    "\n",
    "res"
   ]
  },
  {
   "cell_type": "code",
   "execution_count": 31,
   "metadata": {},
   "outputs": [
    {
     "data": {
      "text/plain": [
       "4"
      ]
     },
     "execution_count": 31,
     "metadata": {},
     "output_type": "execute_result"
    }
   ],
   "source": [
    "class TreeNode:\n",
    "    def __init__ (self, val, left = None, right = None):\n",
    "        self.val  = val\n",
    "        self.left = left\n",
    "        self.right = right\n",
    "        \n",
    "class Solution:\n",
    "\tdef getDepth (self, root: TreeNode):\n",
    "\t\tif root is None:\n",
    "\t\t\treturn 0\n",
    "\t\tleftDepth = self.getDepth(root.left)\n",
    "\t\trightDepth = self.getDepth(root.right)\n",
    "\t\treturn 1 + max(leftDepth, rightDepth)\n",
    "\t\n",
    "\tdef getMaxDepth (self, root: TreeNode):\n",
    "\t\treturn self.getDepth(root)\n",
    "\n",
    "tree = tree2\n",
    "\n",
    "solution = Solution()\n",
    "res = solution.getMaxDepth(tree)\n",
    "\n",
    "res"
   ]
  },
  {
   "attachments": {},
   "cell_type": "markdown",
   "metadata": {},
   "source": [
    "### 層序遍歷"
   ]
  },
  {
   "cell_type": "code",
   "execution_count": 32,
   "metadata": {},
   "outputs": [
    {
     "data": {
      "text/plain": [
       "[[1], [2, 3], [6, 7], [8]]"
      ]
     },
     "execution_count": 32,
     "metadata": {},
     "output_type": "execute_result"
    }
   ],
   "source": [
    "class Solution:\n",
    "\tdef levelOrder (self, root: TreeNode):\n",
    "\t\tif not root:\n",
    "\t\t\treturn []\n",
    "\t\timport collections\n",
    "\t\tqueue = collections.deque([root])\n",
    "\t\tres = []\n",
    "\t\twhile queue:\n",
    "\t\t\tlevel = []\n",
    "\t\t\tfor _ in range(len(queue)):\n",
    "\t\t\t\tcur = queue.popleft()\n",
    "\t\t\t\tlevel.append(cur.val)\n",
    "\t\t\t\tif cur.left:\n",
    "\t\t\t\t\tqueue.append(cur.left)\n",
    "\t\t\t\tif cur.right:\n",
    "\t\t\t\t\tqueue.append(cur.right)\n",
    "\t\t\tres.append(level)\n",
    "\t\treturn res\n",
    "\n",
    "tree = tree2\n",
    "\n",
    "s = Solution()\n",
    "res = s.levelOrder(tree)\n",
    "\n",
    "res"
   ]
  },
  {
   "attachments": {},
   "cell_type": "markdown",
   "metadata": {},
   "source": [
    "### 完全二叉樹的節點個數-迭代法"
   ]
  },
  {
   "cell_type": "code",
   "execution_count": 33,
   "metadata": {},
   "outputs": [
    {
     "data": {
      "text/plain": [
       "6"
      ]
     },
     "execution_count": 33,
     "metadata": {},
     "output_type": "execute_result"
    }
   ],
   "source": [
    "from collections import deque\n",
    "        \n",
    "class Solution:\n",
    "\tdef getNodeSum (self, root: TreeNode):\n",
    "\t\tqueue = deque([])\n",
    "\t\tif root:\n",
    "\t\t\tqueue.append(root)\n",
    "\t\tres = 0\n",
    "\t\twhile queue:\n",
    "\t\t\tfor _ in range(len(queue)):\n",
    "\t\t\t\tcur = queue.popleft()\n",
    "\t\t\t\tres += 1\n",
    "\t\t\t\tif cur.left:\n",
    "\t\t\t\t\tqueue.append(cur.left)\n",
    "\t\t\t\tif cur.right:\n",
    "\t\t\t\t\tqueue.append(cur.right)\n",
    "\t\treturn res\n",
    "\n",
    "\n",
    "tree = tree2\n",
    "\n",
    "s = Solution()\n",
    "res = s.getNodeSum(tree)\n",
    "\n",
    "res"
   ]
  },
  {
   "attachments": {},
   "cell_type": "markdown",
   "metadata": {},
   "source": [
    "### 平衡二叉树"
   ]
  },
  {
   "cell_type": "code",
   "execution_count": 36,
   "metadata": {},
   "outputs": [
    {
     "name": "stdout",
     "output_type": "stream",
     "text": [
      "True\n",
      "False\n"
     ]
    }
   ],
   "source": [
    "class Solution:\n",
    "\tdef isBalanced (self, root: TreeNode):\n",
    "\t\treturn self.getHeight(root) != -1\n",
    "\n",
    "\tdef getHeight (self, root: TreeNode):\n",
    "\t\tif not root:\n",
    "\t\t\treturn 0\n",
    "\t\tleft_height = self.getHeight(root.left)\n",
    "\t\tif left_height == -1:\n",
    "\t\t\treturn -1\n",
    "\t\tright_height = self.getHeight(root.right)\n",
    "\t\tif right_height == -1:\n",
    "\t\t\treturn -1\n",
    "\t\tif abs(left_height - right_height) > 1:\n",
    "\t\t\treturn -1\n",
    "\t\telse :\n",
    "\t\t\treturn 1 + max(left_height, right_height)\n",
    "\n",
    "\n",
    "s = Solution()\n",
    "print(s.isBalanced(tree1))\n",
    "print(s.isBalanced(tree2))"
   ]
  },
  {
   "attachments": {},
   "cell_type": "markdown",
   "metadata": {},
   "source": [
    "### 二叉樹的所有路徑"
   ]
  },
  {
   "cell_type": "code",
   "execution_count": 65,
   "metadata": {},
   "outputs": [
    {
     "name": "stdout",
     "output_type": "stream",
     "text": [
      "[[1, 2, 4], [1, 2, 5], [1, 3, 6], [1, 3, 7]]\n",
      "[[1, 2, 6], [1, 3, 7, 8]]\n"
     ]
    }
   ],
   "source": [
    "class Solution:\n",
    "\tdef traversal(self, cur, path, result):\n",
    "\t\tpath.append(cur.val)\n",
    "\t\tif cur.left is None and cur.right is None:\n",
    "\t\t\tresult.append(list(path))\n",
    "\t\t\treturn\n",
    "\n",
    "\t\tif cur.left is not None:\n",
    "\t\t\tself.traversal(cur.left, path ,result)\n",
    "\t\t\tpath.pop()\n",
    "\n",
    "\t\tif cur.right is not None:\n",
    "\t\t\tself.traversal(cur.right, path ,result)\n",
    "\t\t\tpath.pop()\n",
    "\n",
    "\tdef binaryTreePaths(self, root):\n",
    "\t\tresult = []\n",
    "\t\tpath = []\n",
    "\t\tif not root:\n",
    "\t\t\treturn result\n",
    "\t\tself.traversal(root, path, result)\n",
    "\t\treturn result\n",
    "\n",
    "s = Solution()\n",
    "answ = s.binaryTreePaths(tree1)\n",
    "answ2 = s.binaryTreePaths(tree2)\n",
    "print(answ)\n",
    "print(answ2)"
   ]
  },
  {
   "attachments": {},
   "cell_type": "markdown",
   "metadata": {},
   "source": [
    "### 二叉樹的所有路徑 - 迭代法"
   ]
  },
  {
   "cell_type": "code",
   "execution_count": 84,
   "metadata": {},
   "outputs": [
    {
     "name": "stdout",
     "output_type": "stream",
     "text": [
      "['1->2->4', '1->2->5', '1->3->6', '1->3->7']\n",
      "['1->2->6', '1->3->7->8']\n"
     ]
    }
   ],
   "source": [
    "class Solution:\n",
    "\tdef binaryTreePaths(self, root):\n",
    "\t\tresult = []\n",
    "\t\tpath_st = [str(root.val)]\n",
    "\t\tstack = [root]\n",
    "\n",
    "\t\twhile stack:\n",
    "\t\t\tcur = stack.pop()\n",
    "\t\t\tpath = path_st.pop()\n",
    "\n",
    "\t\t\tif not (cur.left or cur.right):\n",
    "\t\t\t\tresult.append(path)\n",
    "\t\t\t\n",
    "\t\t\tif cur.right:\n",
    "\t\t\t\tstack.append(cur.right)\n",
    "\t\t\t\tpath_st.append(path + '->' + str(cur.right.val))\n",
    "\n",
    "\t\t\tif cur.left:\n",
    "\t\t\t\tstack.append(cur.left)\n",
    "\t\t\t\tpath_st.append(path + '->' + str(cur.left.val))\n",
    "\t\t\t\n",
    "\t\treturn result\n",
    "\n",
    "s = Solution()\n",
    "answ = s.binaryTreePaths(tree1)\n",
    "answ2 = s.binaryTreePaths(tree2)\n",
    "print(answ)\n",
    "print(answ2)"
   ]
  }
 ],
 "metadata": {
  "kernelspec": {
   "display_name": "myenv",
   "language": "python",
   "name": "myenv"
  },
  "language_info": {
   "codemirror_mode": {
    "name": "ipython",
    "version": 3
   },
   "file_extension": ".py",
   "mimetype": "text/x-python",
   "name": "python",
   "nbconvert_exporter": "python",
   "pygments_lexer": "ipython3",
   "version": "3.10.10"
  },
  "orig_nbformat": 4
 },
 "nbformat": 4,
 "nbformat_minor": 2
}
